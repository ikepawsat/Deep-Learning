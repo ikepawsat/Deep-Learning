{
  "cells": [
    {
      "cell_type": "markdown",
      "metadata": {
        "id": "ZbmWgBGyu030"
      },
      "source": [
        "[CSCI 3370] Lab 4: Neural Machine Translation\n",
        "\n",
        "Part 1 Posted: Wednesday, Oct 9, 2024\n",
        "\n",
        "Part 1 Due: Friday, Oct 18, 2024\n",
        "\n",
        "Part 2 Due: TBD\n",
        "\n",
        "\n",
        "Submission: please rename the .ipynb file as <your_username>_lab4.ipynb before you submit it to canvas. Example: yuanyua_lab4_part1.ipynb and yuanyua_lab4_part2.ipynb."
      ]
    },
    {
      "cell_type": "markdown",
      "metadata": {
        "id": "uvrXFjpkjFea"
      },
      "source": [
        "Make sure you fill your name and NetID below:"
      ]
    },
    {
      "cell_type": "code",
      "execution_count": 2,
      "metadata": {
        "id": "ssnsDXmjjFed"
      },
      "outputs": [],
      "source": [
        "NAME = \"Ike Pawsat\"\n",
        "NET_ID = \"pawsat\""
      ]
    },
    {
      "cell_type": "markdown",
      "metadata": {
        "id": "xZReRnSNjFef"
      },
      "source": [
        "---"
      ]
    },
    {
      "cell_type": "markdown",
      "metadata": {
        "id": "zkiOj-45jFef"
      },
      "source": [
        "---\n",
        "# Assignment 4: RNN, LSTM, Attention, and Transformers\n",
        "\n",
        "In this assignment, you will implement neural machine translation (NMT) models using:\n",
        "\n",
        "1. RNNs\n",
        "2. LSTMs and LSTMs with attention\n",
        "3. Transformers.\n",
        "\n",
        "As in the previous assignments, you will see code blocks that look like this:\n",
        "```python\n",
        "###############################################################################\n",
        "# TODO: Create a variable x with value 3.7\n",
        "###############################################################################\n",
        "pass\n",
        "# END OF YOUR CODE\n",
        "```\n",
        "\n",
        "You should replace the `pass` statement with your own code and leave the blocks intact, like this:\n",
        "```python\n",
        "###############################################################################\n",
        "# TODO: Create a variable x with value 3.7\n",
        "###############################################################################\n",
        "x = 3.7\n",
        "# END OF YOUR CODE\n",
        "```\n",
        "\n",
        "Also, please remember:\n",
        "- Do not write or modify any code outside of code blocks\n",
        "- Do not add or delete any cells from the notebook. You may add new cells to perform scatch work, but delete them before submitting.\n",
        "- Run all cells before submitting. You will only get credit for code that has been run.\n"
      ]
    },
    {
      "cell_type": "markdown",
      "metadata": {
        "id": "bjCVMXF6jFeg"
      },
      "source": [
        "## Setup\n",
        "\n",
        "First let's import some libraries that will be useful in this assignment.\n"
      ]
    },
    {
      "cell_type": "code",
      "execution_count": 3,
      "metadata": {
        "id": "8lgN9_n7jFeg"
      },
      "outputs": [],
      "source": [
        "import zipfile\n",
        "import matplotlib.pyplot as plt\n",
        "import random\n",
        "import collections\n",
        "import numpy as np\n",
        "import zipfile\n",
        "import torch\n",
        "import os\n",
        "import torch.nn as nn\n",
        "import torch.nn.functional as F\n",
        "\n",
        "import os\n",
        "os.environ['CUDA_LAUNCH_BLOCKING'] = '1'\n",
        "\n",
        "def seed(seed):\n",
        "  torch.manual_seed(seed)\n",
        "  np.random.seed(seed)"
      ]
    },
    {
      "cell_type": "markdown",
      "metadata": {
        "id": "25QiOm7WjFeg"
      },
      "source": [
        "Make sure you are using the GPU."
      ]
    },
    {
      "cell_type": "code",
      "execution_count": 4,
      "metadata": {
        "id": "KFM-5s3xjFeh",
        "colab": {
          "base_uri": "https://localhost:8080/"
        },
        "outputId": "4c0b5fc3-0f02-4554-82ac-176ef0e0ee92"
      },
      "outputs": [
        {
          "output_type": "stream",
          "name": "stdout",
          "text": [
            "Good to go!\n"
          ]
        }
      ],
      "source": [
        "if torch.cuda.is_available():\n",
        "  print('Good to go!')\n",
        "else:\n",
        "  print('Please set GPU via Edit -> Notebook Settings.')\n",
        "device = torch.device('cuda:0')"
      ]
    },
    {
      "cell_type": "markdown",
      "metadata": {
        "id": "Cdvcn1RojFeh"
      },
      "source": [
        "For this assignment, we will use an English-to-French dataset. As shown below, the dataset contains multiple lines each of which has an English sentence and its French translation separated by a tab. In this problem, since English is translated to French, English is the source language and French is the target language. Note that each text sequence is of variable lengnth and can be just one sentence or a paragraph of multiple sentences."
      ]
    },
    {
      "cell_type": "code",
      "execution_count": 5,
      "metadata": {
        "id": "AhjVxfGujFeh"
      },
      "outputs": [],
      "source": [
        "def download_if_not_exist(file_name):\n",
        "\n",
        "  if not os.path.exists(file_name):\n",
        "    import urllib.request\n",
        "    DATA_URL = 'https://download.pytorch.org/tutorial/data.zip'\n",
        "\n",
        "    file_name, _ = urllib.request.urlretrieve(DATA_URL, './data.zip')\n",
        "\n",
        "  return file_name\n",
        "\n",
        "def read_raw(file_name):\n",
        "  file_name = download_if_not_exist(file_name)\n",
        "\n",
        "  with zipfile.ZipFile(file_name, 'r') as fzip:\n",
        "    raw_text = fzip.read(file_name.split('.')[-2][1:] + '/eng-fra.txt').decode('utf-8')\n",
        "  return raw_text"
      ]
    },
    {
      "cell_type": "code",
      "execution_count": 6,
      "metadata": {
        "id": "QABmwfu2jFei",
        "colab": {
          "base_uri": "https://localhost:8080/"
        },
        "outputId": "c5d533e0-65b7-4e40-9240-b6410aeee35d"
      },
      "outputs": [
        {
          "output_type": "stream",
          "name": "stdout",
          "text": [
            "Go.\tVa !\n",
            "Run!\tCours !\n",
            "Run!\tCourez !\n",
            "Wow!\tÇa alors !\n",
            "Fire!\tAu feu !\n",
            "Help!\tÀ l'aide !\n",
            "Jump.\tSaute.\n",
            "Stop!\tÇa suffit !\n",
            "Stop!\tStop !\n",
            "Stop!\tArrête-toi !\n",
            "Wait!\tAttends !\n",
            "Wait!\tAttendez !\n",
            "I see.\tJe comprends.\n"
          ]
        }
      ],
      "source": [
        "raw_text = read_raw('./data.zip')\n",
        "print(raw_text[:200])"
      ]
    },
    {
      "cell_type": "markdown",
      "metadata": {
        "id": "23hR_uCdjFei"
      },
      "source": [
        "Next we'll do some preprocessing on this raw text. We need to replace special symbols (non-breaking spaces) with spaces, convert all characters to lower case, and insert a space between words and punctuation marks."
      ]
    },
    {
      "cell_type": "code",
      "execution_count": 7,
      "metadata": {
        "id": "S8_kduOojFei"
      },
      "outputs": [],
      "source": [
        "def preprocess_raw(text):\n",
        "  text = text.replace('\\u202f', ' ').replace('\\xa0', ' ')\n",
        "  out = ''\n",
        "  for i, char in enumerate(text.lower()):\n",
        "    if char in (',', '!', '.') and i > 0 and text[i-1] != ' ':\n",
        "      out += ' '\n",
        "    out += char\n",
        "  return out"
      ]
    },
    {
      "cell_type": "markdown",
      "metadata": {
        "id": "jx4AxHEBjFei"
      },
      "source": [
        "We further split the source-target pairs into a source list and a target list. We use word-level tokenization here."
      ]
    },
    {
      "cell_type": "code",
      "execution_count": 8,
      "metadata": {
        "id": "iMp7CGZzjFej"
      },
      "outputs": [],
      "source": [
        "def split_source_target(text, max_len):\n",
        "  source, target = [], []\n",
        "  for i, line in enumerate(text.split('\\n')):\n",
        "    if i > 5000: # we only use 5000 pairs of translation\n",
        "      break\n",
        "    parts = line.split('\\t')\n",
        "    if len(parts) == 2:\n",
        "      src_tokens = parts[0].split(' ')\n",
        "      tgt_tokens = parts[1].split(' ')\n",
        "      if (len(src_tokens) <= max_len) and (len(tgt_tokens) <= max_len):\n",
        "        source.append(src_tokens)\n",
        "        target.append(tgt_tokens)\n",
        "  return source, target"
      ]
    },
    {
      "cell_type": "code",
      "execution_count": 9,
      "metadata": {
        "id": "X1dDbXd0jFej"
      },
      "outputs": [],
      "source": [
        "def prepare_data(raw_text, max_len=10000):\n",
        "  text = preprocess_raw(raw_text)\n",
        "  source, target = split_source_target(text, max_len)\n",
        "  return source, target\n",
        "\n",
        "source, target = prepare_data(raw_text)"
      ]
    },
    {
      "cell_type": "markdown",
      "metadata": {
        "id": "WKHCvQ66jFej"
      },
      "source": [
        "Using the whole dataset takes too much memory, and it is hard to train with a large vocabulary. Thus, we will filter out some words by looking at the statistical properties of the dataset."
      ]
    },
    {
      "cell_type": "code",
      "execution_count": 10,
      "metadata": {
        "id": "x-tkdp5tjFej",
        "colab": {
          "base_uri": "https://localhost:8080/",
          "height": 452
        },
        "outputId": "821d1e86-19f7-414c-9479-ca971e21287e"
      },
      "outputs": [
        {
          "output_type": "display_data",
          "data": {
            "text/plain": [
              "<Figure size 640x480 with 1 Axes>"
            ],
            "image/png": "[encoded data removed]"
          },
          "metadata": {}
        }
      ],
      "source": [
        "def len_dis(text):\n",
        "  lens = [len(line) for line in text]\n",
        "  len_counter = collections.Counter(lens)\n",
        "\n",
        "  lens = np.array(list(len_counter.keys()))\n",
        "  sort_idx = np.argsort(lens)\n",
        "  lens_sort = lens[sort_idx]\n",
        "  len_counts = np.array(list(len_counter.values()))\n",
        "  len_counts_sort = len_counts[sort_idx]\n",
        "  p = np.cumsum(len_counts_sort) / len_counts_sort.sum()\n",
        "  return p, lens_sort\n",
        "\n",
        "src_p, src_lens_sort = len_dis(source)\n",
        "tgt_p, tgt_lens_sort = len_dis(target)\n",
        "plt.plot(src_lens_sort, src_p, 'r-', label='eng')\n",
        "plt.plot(tgt_lens_sort, tgt_p, 'g-', label='fra')\n",
        "plt.title('Cumulative Distribution of Sentence Length')\n",
        "plt.legend()\n",
        "plt.show()"
      ]
    },
    {
      "cell_type": "markdown",
      "metadata": {
        "id": "Lbf4sd8IjFej"
      },
      "source": [
        "From the above plots, we can see that more than 90% of the sentences have a length of less than 8. Thus, we can filter out sentences of length greater than 8. We also filter out words that occur less than 5 times in the corpus."
      ]
    },
    {
      "cell_type": "code",
      "execution_count": 11,
      "metadata": {
        "id": "a81p91LPjFej"
      },
      "outputs": [],
      "source": [
        "# hyper-param\n",
        "MAX_LEN = 8\n",
        "MIN_FREQ = 5"
      ]
    },
    {
      "cell_type": "markdown",
      "metadata": {
        "id": "iDigebR2jFek"
      },
      "source": [
        "### Build Vocabulary\n",
        "\n",
        "Each word needs a unique index, and the words that have been filtered out need a special token to represent them. The following class Vocab is used to build the vocabulary. Some basic helper functions or dictionaries are also provided:\n",
        "- Dictionary word2index: Convert word string into index:\n",
        "- Dictionary index2word: Convert index into word string\n",
        "- helper function _build_vocab(): Build dictionaries for converting from words to indices and vice versa\n",
        "- Word Counter, num_word: Record the total number of unique tokens in the vocabulary\n",
        "    \n",
        "There are 4 special tokens added in the vocabulary:\n",
        "- 'pad': padding token. Sentences shorter than MAX_LEN is padded by this symbol to make the length to MAX_LEN\n",
        "- 'bos': beginning of sentence. This indicates the beginning of a sentence\n",
        "- 'eos': end of sentence. This indicates the end of a sentence\n",
        "- 'unk': unknown word. This represents words that have been filtered out (words that are not in the vocabulary)"
      ]
    },
    {
      "cell_type": "code",
      "execution_count": 12,
      "metadata": {
        "id": "094DHXtjjFek"
      },
      "outputs": [],
      "source": [
        "class Vocab():\n",
        "  def __init__(self, name, tokens, min_freq):\n",
        "    self.name = name\n",
        "    self.index2word = {\n",
        "      0: 'pad',\n",
        "      1: 'bos',\n",
        "      2: 'eos',\n",
        "      3: 'unk'\n",
        "    }\n",
        "    self.word2index = {v: k for k, v in self.index2word.items()}\n",
        "    self.num_word = 4\n",
        "    token_freq = collections.Counter(tokens)\n",
        "    tokens = [token for token in tokens if token_freq[token] >= MIN_FREQ]\n",
        "    self._build_vocab(tokens)\n",
        "\n",
        "  def _build_vocab(self, tokens):\n",
        "    for token in tokens:\n",
        "      if token not in self.word2index:\n",
        "        self.word2index[token] = self.num_word\n",
        "        self.index2word[self.num_word] = token\n",
        "        self.num_word += 1\n",
        "\n",
        "  def __getitem__(self, tokens):\n",
        "    if not isinstance(tokens, (list, tuple)):\n",
        "      return self.word2index.get(tokens, self.word2index['unk'])\n",
        "    else:\n",
        "      return [self.__getitem__(token) for token in tokens]"
      ]
    },
    {
      "cell_type": "markdown",
      "metadata": {
        "id": "2tcHfSy4jFek"
      },
      "source": [
        "### Build Dataset\n",
        "\n",
        "The dataset pipeline involves the following steps:\n",
        "- For target language, every sentence will be 'sandwiched' with the 'bos' token and the 'eos' token.\n",
        "- Every sentence that has a length less than MAX_LEN will be padded to the MAX_LEN with the *padding_token*.\n",
        "- The dataset should return the converted tensor and the corresponding valid length before padding.\n",
        "- We use the Pytorch *DataLoader* API to build the dataset generator.\n",
        "\n",
        "For the purposes of this assignment, we will train and evaluate on only the training data. This isn't ideal because we do not know if we are  overfitting to the training data, but it is fine for instructional purposes. In practice (eg. for your projects), you should make sure to split your data into training/validation/test datasets."
      ]
    },
    {
      "cell_type": "code",
      "execution_count": 13,
      "metadata": {
        "id": "l28_hezgjFek",
        "colab": {
          "base_uri": "https://localhost:8080/"
        },
        "outputId": "5f4f07aa-fe9a-4641-c676-45b749e5996d"
      },
      "outputs": [
        {
          "output_type": "stream",
          "name": "stdout",
          "text": [
            "(tensor([4, 5, 0, 0, 0, 0, 0, 0, 0, 0]), tensor(2), tensor([1, 4, 5, 2, 0, 0, 0, 0, 0, 0]), tensor(4))\n",
            "Vocabulary size of source language: 433\n",
            "Vocabulary size of target language: 420\n",
            "Total number of sentence pairs: 4990\n"
          ]
        }
      ],
      "source": [
        "def build_vocab(name, tokens, min_freq):\n",
        "  tokens = [token for line in tokens for token in line]\n",
        "  return Vocab(name, tokens, min_freq)\n",
        "\n",
        "def build_vocabs(lang_src, lang_tgt, src_text, tgt_text):\n",
        "  vocab_src = build_vocab(lang_src, src_text, MIN_FREQ)\n",
        "  vocab_tgt = build_vocab(lang_tgt, tgt_text, MIN_FREQ)\n",
        "  return vocab_src, vocab_tgt\n",
        "\n",
        "def pad(line, padding_token):\n",
        "  return line + [padding_token] * (MAX_LEN + 2 - len(line))\n",
        "\n",
        "def build_tensor(text, lang, is_source):\n",
        "  lines = [lang[line] for line in text]\n",
        "  if not is_source:\n",
        "    lines = [[lang['bos']] + line + [lang['eos']] for line in lines]\n",
        "  array = torch.tensor([pad(line, lang['pad']) for line in lines])\n",
        "  valid_len = (array != lang['pad']).sum(1)\n",
        "  return array, valid_len\n",
        "\n",
        "def load_data_nmt(batch_size=2):\n",
        "  lang_eng, lang_fra = build_vocabs('eng', 'fra', source, target)\n",
        "  src_array, src_valid_len = build_tensor(source, lang_eng, True)\n",
        "  tgt_array, tgt_valid_len = build_tensor(target, lang_fra, False)\n",
        "  train_data = torch.utils.data.TensorDataset(\n",
        "    src_array, src_valid_len, tgt_array, tgt_valid_len)\n",
        "  print(train_data[0])\n",
        "  train_iter = torch.utils.data.DataLoader(train_data, batch_size, shuffle=True)\n",
        "  return lang_eng, lang_fra, train_iter\n",
        "\n",
        "\n",
        "source, target = prepare_data(raw_text, max_len=MAX_LEN)\n",
        "vocab_eng, vocab_fra, train_iter = load_data_nmt(batch_size=2)\n",
        "print('Vocabulary size of source language: {}'.format(vocab_eng.num_word))\n",
        "print('Vocabulary size of target language: {}'.format(vocab_fra.num_word))\n",
        "print('Total number of sentence pairs: {}'.format(len(source)))"
      ]
    },
    {
      "cell_type": "markdown",
      "metadata": {
        "id": "0CzM0GP_jFek"
      },
      "source": [
        "## Part 1a: Sequence to Sequence with RNN (baseline)\n",
        "\n",
        "In this section, we provide the implementation of the seq2seq RNN baseline model. You do not need to implement any code in this section, but you should read and understand what the code is doing because you will need to implement something similar in subsequent sections. The following figure highlights the architecture of the seq2seq model. An encoder RNN encodes the input sequence into its hidden state, and passes the last hidden state to the decoder RNN. The decoder generates the target sequence.\n",
        "\n",
        "Implementation Details:\n",
        "\n",
        "- Embedding: We have represented each word with an integer or one-hot vector. We need an embedding layer to map an input word to its embedding vector.\n",
        "- Encoder: A vanilla RNN is used to encode a source sequence. The final hidden state is returned as output and passed to the decoder RNN.\n",
        "- Decoder: Another vanilla RNN is implemented to generate the target sequence. The hidden state is initialized with the last hidden state from the encoder.\n",
        "- Encoder-Decoder: The class NMTRNN is built by combining the encoder and the decoder, and yields the loss and predictions.\n",
        "- Loss: We have padded all sentences so that they have the same MAX_LEN. Thus, when we compute the loss, the loss from those padding_tokens should be masked out."
      ]
    },
    {
      "cell_type": "markdown",
      "metadata": {
        "id": "oJEe8Kb_jFek"
      },
      "source": [
        "<div>\n",
        "<img src=\"https://raw.githubusercontent.com/dsgiitr/d2l-pytorch/24e89824c154c2afc419c5dadec9622e490b99bb/img/seq2seq.svg\" width=\"600\"/>\n",
        "</div>\n",
        "Image source: https://github.com/dsgiitr/d2l-pytorch/blob/master/img/seq2seq.svg"
      ]
    },
    {
      "cell_type": "code",
      "execution_count": 14,
      "metadata": {
        "id": "evSc4MxwjFek"
      },
      "outputs": [],
      "source": [
        "class Encoder(nn.Module):\n",
        "  def __init__(self, vocab_size, embedding_dim, hidden_size):\n",
        "    super(Encoder, self).__init__()\n",
        "    \"\"\"\n",
        "    inputs:\n",
        "      vocab_size: int, the number of words in the vocabulary\n",
        "      embedding_dim: int, dimension of the word embedding\n",
        "      hidden_size: int, dimension of the hidden state of vanilla RNN\n",
        "    \"\"\"\n",
        "    self.embedding = nn.Embedding(vocab_size, embedding_dim) # embedding layer\n",
        "    self.enc = nn.RNN(embedding_dim, hidden_size, batch_first=True)\n",
        "    self.hidden_size = hidden_size\n",
        "\n",
        "  def forward(self, sources, valid_len):\n",
        "    \"\"\"\n",
        "    Inputs:\n",
        "      source: tensor of size (N, T), where N is the batch size, T is the length of the sequence(s)\n",
        "      valid_len: tensor of size (N,), indicating the valid length of sequence(s) (the length before padding)\n",
        "    \"\"\"\n",
        "    word_embedded = self.embedding(sources)\n",
        "    N = word_embedded.shape[0]\n",
        "\n",
        "    h = sources.new_zeros(1, N, self.hidden_size).float() # initialize hidden state with zeros\n",
        "\n",
        "    o, h = self.enc(word_embedded, h)\n",
        "\n",
        "    return o[np.arange(N), valid_len] # return the hidden state of the valid last time step\n",
        "\n",
        "class Decoder(nn.Module):\n",
        "  def __init__(self, vocab_size, embedding_dim, hidden_size):\n",
        "    super(Decoder, self).__init__()\n",
        "    \"\"\"\n",
        "    inputs:\n",
        "      vocab_size: int, the number of words in the vocabulary\n",
        "      embedding_dim: int, dimension of the word embedding\n",
        "      hidden_size: int, dimension of the hidden state of vanilla RNN\n",
        "    \"\"\"\n",
        "    self.embedding = nn.Embedding(vocab_size, embedding_dim)\n",
        "    self.enc = nn.RNN(embedding_dim, hidden_size, batch_first=True)\n",
        "    self.output_emb = nn.Linear(hidden_size, vocab_size)\n",
        "    self.hidden_size = hidden_size\n",
        "\n",
        "  def forward(self, h, target):\n",
        "    word_embedded = self.embedding(target)\n",
        "    N, T = word_embedded.shape[:2]\n",
        "\n",
        "    o, h = self.enc(word_embedded, h.view(1,N,self.hidden_size))\n",
        "    pred = self.output_emb(o)\n",
        "    return pred, h\n",
        "\n",
        "class NMTRNN(nn.Module):\n",
        "  def __init__(self, src_vocab_size, tgt_vocab_size, embedding_dim, hidden_size):\n",
        "    super(NMTRNN, self).__init__()\n",
        "    self.enc = Encoder(src_vocab_size, embedding_dim, hidden_size)\n",
        "    self.dec = Decoder(tgt_vocab_size, embedding_dim, hidden_size)\n",
        "\n",
        "  def forward(self, src, src_len, tgt, tgt_len):\n",
        "    h = self.enc(src, src_len)\n",
        "    T = tgt.shape[1]\n",
        "\n",
        "    pred, _ = self.dec(h, tgt)\n",
        "    loss = 0\n",
        "    for t in range(T-1):\n",
        "      # target sequence should shift by one time-step, because we are predicting the next word\n",
        "      # notice the `ignore_index` parameter is set to 0, which is for the `pad` token\n",
        "      loss = loss + F.nll_loss(F.log_softmax(pred[:, t]), tgt[:, t+1], ignore_index=0)\n",
        "\n",
        "    return loss, pred.argmax(dim=-1)\n",
        "\n",
        "  def predict(self, src, src_len, tgt, tgt_len):\n",
        "      \"\"\"\n",
        "      When predicting a sequence given the 'bos' token, the input for the next step is the predicted\n",
        "      token from the previous time step.\n",
        "      \"\"\"\n",
        "      h = self.enc(src, src_len)\n",
        "\n",
        "      inputs = tgt[:, :1]\n",
        "      preds = []\n",
        "      for t in range(MAX_LEN+1): # plus the 'eos' token\n",
        "        pred, h = self.dec(h, inputs)\n",
        "        preds.append(pred)\n",
        "        inputs = pred.argmax(dim=-1)\n",
        "\n",
        "      pred = torch.cat(preds, dim=1).argmax(dim=-1)\n",
        "      return pred\n"
      ]
    },
    {
      "cell_type": "code",
      "execution_count": 15,
      "metadata": {
        "id": "WoC98IWPjFel",
        "colab": {
          "base_uri": "https://localhost:8080/"
        },
        "outputId": "25dd2b83-4dfd-4e23-f4d9-1b88d421679e"
      },
      "outputs": [
        {
          "output_type": "stream",
          "name": "stdout",
          "text": [
            "(tensor([4, 5, 0, 0, 0, 0, 0, 0, 0, 0]), tensor(2), tensor([1, 4, 5, 2, 0, 0, 0, 0, 0, 0]), tensor(4))\n"
          ]
        },
        {
          "output_type": "stream",
          "name": "stderr",
          "text": [
            "<ipython-input-14-a6e449a9f48b>:66: UserWarning: Implicit dimension choice for log_softmax has been deprecated. Change the call to include dim=X as an argument.\n",
            "  loss = loss + F.nll_loss(F.log_softmax(pred[:, t]), tgt[:, t+1], ignore_index=0)\n"
          ]
        },
        {
          "output_type": "stream",
          "name": "stdout",
          "text": [
            "iter 0 / 7800\tLoss:\tnan\n",
            "pred:\t tensor([146,  65, 349,  53,   3, 330,  52, 330, 330, 330])\n",
            "\n",
            "tgt:\t tensor([ 3, 11,  2,  0,  0,  0,  0,  0,  0])\n",
            "\n",
            "iter 156 / 7800\tLoss:\tnan\n",
            "pred:\t tensor([14,  3,  3, 11,  2, 11,  3,  3,  3,  3])\n",
            "\n",
            "tgt:\t tensor([15, 89,  3, 11,  2,  0,  0,  0,  0])\n",
            "\n",
            "iter 312 / 7800\tLoss:\tnan\n",
            "pred:\t tensor([ 14, 164,   3,  11,  11,   2,  11,   3,   3,   3])\n",
            "\n",
            "tgt:\t tensor([ 48,  49, 113, 282,  11,   2,   0,   0,   0])\n",
            "\n",
            "iter 468 / 7800\tLoss:\tnan\n",
            "pred:\t tensor([ 3,  3, 11,  3, 11,  2, 11,  3,  3, 11])\n",
            "\n",
            "tgt:\t tensor([36,  3, 37,  3,  5,  2,  0,  0,  0])\n",
            "\n",
            "iter 624 / 7800\tLoss:\tnan\n",
            "pred:\t tensor([36,  3,  3, 11,  2, 11,  3,  3,  3,  3])\n",
            "\n",
            "tgt:\t tensor([36,  9, 88, 11,  2,  0,  0,  0,  0])\n",
            "\n",
            "iter 780 / 7800\tLoss:\tnan\n",
            "pred:\t tensor([14, 28,  3, 11,  2, 11,  3, 11, 11, 11])\n",
            "\n",
            "tgt:\t tensor([14, 28,  3, 11,  2,  0,  0,  0,  0])\n",
            "\n",
            "iter 936 / 7800\tLoss:\tnan\n",
            "pred:\t tensor([ 14,  28,   3, 227,  37,   3,  11,   2,  11,   3])\n",
            "\n",
            "tgt:\t tensor([ 14,  28,  35, 227,  37,   3,  11,   2,   0])\n",
            "\n",
            "iter 1092 / 7800\tLoss:\tnan\n",
            "pred:\t tensor([171, 342,   3,  11,   2,  11,   3,  11,  11,  11])\n",
            "\n",
            "tgt:\t tensor([171, 342,   3,  11,   2,   0,   0,   0,   0])\n",
            "\n",
            "iter 1248 / 7800\tLoss:\tnan\n",
            "pred:\t tensor([ 14, 116,  72,  11,   2,  11,   3,  11,  11,  11])\n",
            "\n",
            "tgt:\t tensor([ 14, 197,   3,  11,   2,   0,   0,   0,   0])\n",
            "\n",
            "iter 1404 / 7800\tLoss:\tnan\n",
            "pred:\t tensor([ 14, 171,   3,  11,   2,  11,   3,  11,  11,  11])\n",
            "\n",
            "tgt:\t tensor([14, 70,  3, 11,  2,  0,  0,  0,  0])\n",
            "\n",
            "iter 1560 / 7800\tLoss:\tnan\n",
            "pred:\t tensor([168, 203,  78,   3,  41,  24,   2,   5,   3,   3])\n",
            "\n",
            "tgt:\t tensor([168,  90,  79,   4,  41,  24,   2,   0,   0])\n",
            "\n",
            "iter 1716 / 7800\tLoss:\tnan\n",
            "pred:\t tensor([ 14, 171,   3, 205,   5,   2,  11,   3,   3,   3])\n",
            "\n",
            "tgt:\t tensor([ 14,  70,  17, 205,   5,   2,   0,   0,   0])\n",
            "\n",
            "iter 1872 / 7800\tLoss:\tnan\n",
            "pred:\t tensor([ 3,  5,  2, 11,  3, 11, 11, 11, 11, 11])\n",
            "\n",
            "tgt:\t tensor([ 3, 11,  2,  0,  0,  0,  0,  0,  0])\n",
            "\n",
            "iter 2028 / 7800\tLoss:\tnan\n",
            "pred:\t tensor([ 14, 171,   3,  75,   3,  11,   2,  11,   3,  11])\n",
            "\n",
            "tgt:\t tensor([ 14, 171, 213,  75,   3,  11,   2,   0,   0])\n",
            "\n",
            "iter 2184 / 7800\tLoss:\tnan\n",
            "pred:\t tensor([176, 203,  14, 171,   3,  24,   2,  11,   3,   3])\n",
            "\n",
            "tgt:\t tensor([176, 203,  14, 116,   3,  24,   2,   0,   0])\n",
            "\n",
            "iter 2340 / 7800\tLoss:\tnan\n",
            "pred:\t tensor([14, 28, 11,  2, 11,  3, 11, 11, 11, 11])\n",
            "\n",
            "tgt:\t tensor([103, 385,  11,   2,   0,   0,   0,   0,   0])\n",
            "\n",
            "iter 2496 / 7800\tLoss:\tnan\n",
            "pred:\t tensor([15,  3, 72,  3, 11,  2, 11,  3, 11, 11])\n",
            "\n",
            "tgt:\t tensor([ 15, 291,   9,   3,  11,   2,   0,   0,   0])\n",
            "\n",
            "iter 2652 / 7800\tLoss:\tnan\n",
            "pred:\t tensor([ 14, 116, 179, 259,  11,   2,  11,   3,  11,  11])\n",
            "\n",
            "tgt:\t tensor([ 14, 116, 179, 305,  11,   2,   0,   0,   0])\n",
            "\n",
            "iter 2808 / 7800\tLoss:\t3.997143\n",
            "pred:\t tensor([ 36, 316,  41,  75,  11,   2,  11,   3,   3,   3])\n",
            "\n",
            "tgt:\t tensor([315, 316,  41, 139,  11,   2,   0,   0,   0])\n",
            "\n",
            "iter 2964 / 7800\tLoss:\t3.544607\n",
            "pred:\t tensor([ 3, 11,  2, 11,  3,  3,  3,  3,  3,  3])\n",
            "\n",
            "tgt:\t tensor([3, 5, 2, 0, 0, 0, 0, 0, 0])\n",
            "\n",
            "iter 3120 / 7800\tLoss:\t3.656564\n",
            "pred:\t tensor([ 15, 282,  11,   2,  11,   3,   3,   3,  11,   3])\n",
            "\n",
            "tgt:\t tensor([  3, 265,  11,   2,   0,   0,   0,   0,   0])\n",
            "\n",
            "iter 3276 / 7800\tLoss:\tnan\n",
            "pred:\t tensor([14, 28,  3, 11,  2, 11,  3, 11,  3, 11])\n",
            "\n",
            "tgt:\t tensor([14, 28,  3, 11,  2,  0,  0,  0,  0])\n",
            "\n",
            "iter 3432 / 7800\tLoss:\tnan\n",
            "pred:\t tensor([ 3, 72,  3, 11,  2, 11,  3, 11,  3, 11])\n",
            "\n",
            "tgt:\t tensor([  3,  72, 248,  11,   2,   0,   0,   0,   0])\n",
            "\n",
            "iter 3588 / 7800\tLoss:\tnan\n",
            "pred:\t tensor([176,   3, 302,  24,   2,  24,   3,   5,   5,   5])\n",
            "\n",
            "tgt:\t tensor([  3,  37, 355,  24,   2,   0,   0,   0,   0])\n",
            "\n",
            "iter 3744 / 7800\tLoss:\tnan\n",
            "pred:\t tensor([ 14, 116,  74,   3,  11,   2,  11,   3,  11,   3])\n",
            "\n",
            "tgt:\t tensor([ 14, 289,  74,   3,  11,   2,   0,   0,   0])\n",
            "\n",
            "iter 3900 / 7800\tLoss:\tnan\n",
            "pred:\t tensor([176,  72, 171,  24,   2,  24,   3,   5,   3,  11])\n",
            "\n",
            "tgt:\t tensor([176,   9, 237,  24,   2,   0,   0,   0,   0])\n",
            "\n",
            "iter 4056 / 7800\tLoss:\t3.954447\n",
            "pred:\t tensor([ 38, 116, 203,   3,  11,   2,  11,   3,   3,   3])\n",
            "\n",
            "tgt:\t tensor([ 38, 419, 203,   3,  11,   2,   0,   0,   0])\n",
            "\n",
            "iter 4212 / 7800\tLoss:\t3.702078\n",
            "pred:\t tensor([ 90, 170,  24,   2,  24, 120,   5,  11,  11,  11])\n",
            "\n",
            "tgt:\t tensor([ 90, 176,  24,   2,   0,   0,   0,   0,   0])\n",
            "\n",
            "iter 4368 / 7800\tLoss:\tnan\n",
            "pred:\t tensor([  3, 207,   3,  11,   2,  11,   3,  11,   3,  11])\n",
            "\n",
            "tgt:\t tensor([  3, 207,   3,  11,   2,   0,   0,   0,   0])\n",
            "\n",
            "iter 4524 / 7800\tLoss:\tnan\n",
            "pred:\t tensor([  3, 354,   5,   2,  11,   3,   3,   3,  11,  11])\n",
            "\n",
            "tgt:\t tensor([251, 354,   5,   2,   0,   0,   0,   0,   0])\n",
            "\n",
            "iter 4680 / 7800\tLoss:\tnan\n",
            "pred:\t tensor([  3, 314,  11,   2,  11,   3,   3,   3,  11,   3])\n",
            "\n",
            "tgt:\t tensor([  3, 314,  11,   2,   0,   0,   0,   0,   0])\n",
            "\n",
            "iter 4836 / 7800\tLoss:\t2.728494\n",
            "pred:\t tensor([ 38,  40, 359, 390,  11,   2,  11,   3,   3,   3])\n",
            "\n",
            "tgt:\t tensor([ 38,  40,  21, 390,  11,   2,   0,   0,   0])\n",
            "\n",
            "iter 4992 / 7800\tLoss:\tnan\n",
            "pred:\t tensor([14, 28,  3, 11,  2, 11,  3,  3,  3,  3])\n",
            "\n",
            "tgt:\t tensor([14, 28,  3, 11,  2,  0,  0,  0,  0])\n",
            "\n",
            "iter 5148 / 7800\tLoss:\tnan\n",
            "pred:\t tensor([267,   3,  24,   2,  24, 226,   5,  11,  11,  11])\n",
            "\n",
            "tgt:\t tensor([267, 234,  24,   2,   0,   0,   0,   0,   0])\n",
            "\n",
            "iter 5304 / 7800\tLoss:\tnan\n",
            "pred:\t tensor([52,  3, 11,  2, 11,  3,  3,  3, 11,  3])\n",
            "\n",
            "tgt:\t tensor([52,  3, 11,  2,  0,  0,  0,  0,  0])\n",
            "\n",
            "iter 5460 / 7800\tLoss:\tnan\n",
            "pred:\t tensor([36,  3,  3,  3, 11,  2, 11,  3,  3,  3])\n",
            "\n",
            "tgt:\t tensor([ 38,  78, 214,   3,  11,   2,   0,   0,   0])\n",
            "\n",
            "iter 5616 / 7800\tLoss:\tnan\n",
            "pred:\t tensor([48,  3, 11,  3, 11,  2, 11,  3,  3,  3])\n",
            "\n",
            "tgt:\t tensor([48,  3, 37, 10, 11,  2,  0,  0,  0])\n",
            "\n",
            "iter 5772 / 7800\tLoss:\tnan\n",
            "pred:\t tensor([ 3, 11, 11,  2, 11,  3, 11,  3,  3,  3])\n",
            "\n",
            "tgt:\t tensor([  3, 161,  11,   2,   0,   0,   0,   0,   0])\n",
            "\n",
            "iter 5928 / 7800\tLoss:\tnan\n",
            "pred:\t tensor([ 3,  5,  5,  2, 24,  3,  3,  3, 11, 11])\n",
            "\n",
            "tgt:\t tensor([ 3, 19,  5,  2,  0,  0,  0,  0,  0])\n",
            "\n",
            "iter 6084 / 7800\tLoss:\tnan\n",
            "pred:\t tensor([36,  3, 11,  2, 11,  3, 11,  3, 11,  3])\n",
            "\n",
            "tgt:\t tensor([36,  3, 11,  2,  0,  0,  0,  0,  0])\n",
            "\n",
            "iter 6240 / 7800\tLoss:\tnan\n",
            "pred:\t tensor([3, 5, 2, 5, 3, 3, 3, 3, 3, 3])\n",
            "\n",
            "tgt:\t tensor([3, 5, 2, 0, 0, 0, 0, 0, 0])\n",
            "\n",
            "iter 6396 / 7800\tLoss:\tnan\n",
            "pred:\t tensor([171, 341,  86,  11,   2,  11,   3,  11,   3,   3])\n",
            "\n",
            "tgt:\t tensor([ 92, 341, 236,  11,   2,   0,   0,   0,   0])\n",
            "\n",
            "iter 6552 / 7800\tLoss:\tnan\n",
            "pred:\t tensor([267, 117,  24,   2,  24, 120,   3,   3,  11,  11])\n",
            "\n",
            "tgt:\t tensor([267, 118,  24,   2,   0,   0,   0,   0,   0])\n",
            "\n",
            "iter 6708 / 7800\tLoss:\tnan\n",
            "pred:\t tensor([ 14,  17, 114,  11,   2,  11,   3,  11,   3,  11])\n",
            "\n",
            "tgt:\t tensor([ 14,  17, 114,  11,   2,   0,   0,   0,   0])\n",
            "\n",
            "iter 6864 / 7800\tLoss:\t1.584817\n",
            "pred:\t tensor([14, 79, 28, 41,  3, 11,  2, 11,  3,  3])\n",
            "\n",
            "tgt:\t tensor([ 14,  79,  28,  41, 229,  11,   2,   0,   0])\n",
            "\n",
            "iter 7020 / 7800\tLoss:\tnan\n",
            "pred:\t tensor([267,   3,  24,   2,  24, 120, 229, 144,  11,  11])\n",
            "\n",
            "tgt:\t tensor([267, 124,  24,   2,   0,   0,   0,   0,   0])\n",
            "\n",
            "iter 7176 / 7800\tLoss:\t1.970186\n",
            "pred:\t tensor([ 15, 204, 393,   3,  11,   2,  11,   3,  11,   3])\n",
            "\n",
            "tgt:\t tensor([ 15, 204, 393,   3,  11,   2,   0,   0,   0])\n",
            "\n",
            "iter 7332 / 7800\tLoss:\t1.661103\n",
            "pred:\t tensor([52,  3, 11,  2, 11,  3,  3,  3, 11,  3])\n",
            "\n",
            "tgt:\t tensor([52,  3, 11,  2,  0,  0,  0,  0,  0])\n",
            "\n",
            "iter 7488 / 7800\tLoss:\tnan\n",
            "pred:\t tensor([15,  3, 11,  2, 11,  3,  3, 11,  3,  3])\n",
            "\n",
            "tgt:\t tensor([15, 23, 11,  2,  0,  0,  0,  0,  0])\n",
            "\n",
            "iter 7644 / 7800\tLoss:\tnan\n",
            "pred:\t tensor([14, 28,  3, 11,  2, 11,  3, 11, 11,  3])\n",
            "\n",
            "tgt:\t tensor([14, 28,  3, 11,  2,  0,  0,  0,  0])\n",
            "\n"
          ]
        }
      ],
      "source": [
        "def train_rnn(net, train_iter, lr, epochs, device):\n",
        "  # training\n",
        "  net = net.to(device)\n",
        "\n",
        "  optimizer = torch.optim.Adam(net.parameters(), lr=lr)\n",
        "  loss_list = []\n",
        "  print_interval = len(train_iter)\n",
        "  total_iter = epochs * len(train_iter)\n",
        "  for e in range(epochs):\n",
        "    net.train()\n",
        "    for i, train_data in enumerate(train_iter):\n",
        "      train_data = [ds.to(device) for ds in train_data]\n",
        "\n",
        "      loss, pred = net(*train_data)\n",
        "\n",
        "      loss_list.append(loss.mean().detach().cpu())\n",
        "      optimizer.zero_grad()\n",
        "      loss.mean().backward()\n",
        "      optimizer.step()\n",
        "\n",
        "      step = i + e * len(train_iter)\n",
        "      if step % print_interval == 0:\n",
        "        print('iter {} / {}\\tLoss:\\t{:.6f}'.format(step, total_iter, loss.mean().detach()))\n",
        "        print('pred:\\t {}\\n'.format(pred[0].detach().cpu()))\n",
        "        print('tgt:\\t {}\\n'.format(train_data[2][0][1:].cpu()))\n",
        "  return loss_list\n",
        "\n",
        "seed(1)\n",
        "batch_size = 32\n",
        "lr = 1e-3\n",
        "epochs = 50\n",
        "\n",
        "embedding_dim = 250\n",
        "hidden_size = 128\n",
        "\n",
        "vocab_eng, vocab_fra, train_iter = load_data_nmt(batch_size)\n",
        "rnn_net = NMTRNN(vocab_eng.num_word, vocab_fra.num_word, embedding_dim, hidden_size)\n",
        "\n",
        "rnn_loss_list = train_rnn(rnn_net, train_iter, lr, epochs, device)"
      ]
    },
    {
      "cell_type": "markdown",
      "metadata": {
        "id": "NGs3VUoRjFel"
      },
      "source": [
        "### RNN Loss Curve\n",
        "\n",
        "Plot the loss curve over time."
      ]
    },
    {
      "cell_type": "code",
      "execution_count": 16,
      "metadata": {
        "id": "fHsMfcssjFel",
        "colab": {
          "base_uri": "https://localhost:8080/",
          "height": 470
        },
        "outputId": "1930ccae-1c1e-4252-800e-50e28f9728f2"
      },
      "outputs": [
        {
          "output_type": "execute_result",
          "data": {
            "text/plain": [
              "Text(0.5, 1.0, 'Loss Curve of Baseline')"
            ]
          },
          "metadata": {},
          "execution_count": 16
        },
        {
          "output_type": "display_data",
          "data": {
            "text/plain": [
              "<Figure size 640x480 with 1 Axes>"
            ],
            "image/png": "[encoded data removed]"
          },
          "metadata": {}
        }
      ],
      "source": [
        "# save the loss curve figure in a file for the report\n",
        "plt.plot(np.arange(len(rnn_loss_list)), rnn_loss_list)\n",
        "plt.title('Loss Curve of Baseline')\n"
      ]
    },
    {
      "cell_type": "markdown",
      "metadata": {
        "id": "Ia91raTAjFel"
      },
      "source": [
        "### Prediction Accuracy\n",
        "\n",
        "Print out 5 prediction samples, and calculate the prediction accuracy over the training dataset. You will see an accuracy of over 70%."
      ]
    },
    {
      "cell_type": "code",
      "execution_count": 17,
      "metadata": {
        "id": "lbOv1b7YjFel",
        "colab": {
          "base_uri": "https://localhost:8080/"
        },
        "outputId": "7a54b4cd-d173-49f0-d4a4-975ba8d1c8e5"
      },
      "outputs": [
        {
          "output_type": "stream",
          "name": "stdout",
          "text": [
            "(tensor([4, 5, 0, 0, 0, 0, 0, 0, 0, 0]), tensor(2), tensor([1, 4, 5, 2, 0, 0, 0, 0, 0, 0]), tensor(4))\n",
            "pred:\t ['unk', '!', '.', '.', '.']\n",
            "\n",
            "tgt:\t ['unk', '!', 'eos', 'pad', 'pad', 'pad', 'pad', 'pad', 'pad']\n",
            "\n",
            "pred:\t ['je', 'te', 'déteste', '.', '.', '.']\n",
            "\n",
            "tgt:\t ['je', \"t'en\", 'dois', 'une', '.', 'eos', 'pad', 'pad', 'pad']\n",
            "\n",
            "pred:\t ['est-il', 'unk', '?', '?', '.', '.']\n",
            "\n",
            "tgt:\t ['est-il', 'unk', '?', 'eos', 'pad', 'pad', 'pad', 'pad', 'pad']\n",
            "\n",
            "pred:\t ['je', 'suis', 'unk', '.', '.', '.']\n",
            "\n",
            "tgt:\t ['je', 'suis', 'unk', '.', 'eos', 'pad', 'pad', 'pad', 'pad']\n",
            "\n",
            "pred:\t ['unk', 'à', 'qui', 'que', 'ce', 'soit', '!', '?']\n",
            "\n",
            "tgt:\t ['demande', 'à', 'unk', 'qui', '!', 'eos', 'pad', 'pad', 'pad']\n",
            "\n",
            "Prediction Acc.: 0.7158\n"
          ]
        }
      ],
      "source": [
        "def comp_acc(pred, gt, valid_len):\n",
        "  N, T_gt = gt.shape[:2]\n",
        "  _, T_pr = pred.shape[:2]\n",
        "  assert T_gt == T_pr, 'Prediction and target should have the same length.'\n",
        "  len_mask = torch.arange(T_gt).expand(N, T_gt)\n",
        "  len_mask = len_mask < valid_len[:, None]\n",
        "\n",
        "  pred_crr = (pred == gt).float() * len_mask.float() # filter out the 'bos' token\n",
        "  pred_acc = pred_crr.sum(dim=-1) / (valid_len - 1).float() # minus the 'bos' token\n",
        "  return pred_acc\n",
        "\n",
        "def evaluate_rnn(net, train_iter, device):\n",
        "  acc_list = []\n",
        "  for i, train_data in enumerate(train_iter):\n",
        "    train_data = [ds.to(device) for ds in train_data]\n",
        "\n",
        "    pred = net.predict(*train_data)\n",
        "\n",
        "    pred_acc = comp_acc(pred.detach().cpu(), train_data[2].detach().cpu()[:, 1:], train_data[3].cpu())\n",
        "    acc_list.append(pred_acc)\n",
        "    if i < 5:# print 5 samples from 5 batches\n",
        "      pred = pred[0].detach().cpu()\n",
        "      pred_seq = []\n",
        "      for t in range(MAX_LEN+1):\n",
        "        pred_wd = vocab_fra.index2word[pred[t].item()]\n",
        "        if pred_wd != 'eos':\n",
        "          pred_seq.append(pred_wd)\n",
        "\n",
        "      print('pred:\\t {}\\n'.format(pred_seq))\n",
        "      print('tgt:\\t {}\\n'.format([vocab_fra.index2word[t.item()] for t in train_data[2][0][1:].cpu()]))\n",
        "\n",
        "  print('Prediction Acc.: {:.4f}'.format(torch.cat(acc_list).mean()))\n",
        "\n",
        "seed(1)\n",
        "batch_size = 32\n",
        "\n",
        "vocab_eng, vocab_fra, train_iter = load_data_nmt(batch_size)\n",
        "\n",
        "evaluate_rnn(rnn_net, train_iter, device)"
      ]
    },
    {
      "cell_type": "markdown",
      "metadata": {
        "id": "Op1p4D-ujFem"
      },
      "source": [
        "## Part 1b: Sequence to Sequence with LSTM and Attention\n",
        "\n",
        "Now let's try to improve our model by using an LSTM and the attention mechanism.\n"
      ]
    },
    {
      "cell_type": "markdown",
      "metadata": {
        "id": "mz1S5V9FjFem"
      },
      "source": [
        "### LSTM\n",
        "\n",
        "LSTMs eliminate the gradient explosion/vanishing problem. Its state and gate update at each time step can be summarized as follows:\n",
        "\n",
        "$$\n",
        "\\begin{align*}\n",
        "&\\text{State Update} &&& C_t &= F_t \\odot C_{t-1} + I_t \\odot \\tilde{C}_t \\\\\n",
        "&\\text{Hidden States} &&& H_t &= O_t \\odot \\text{tanh}(C_t) \\\\\n",
        "&\\text{Proposal} &&& \\tilde{C}_t &= \\text{tanh}( X_tW_{xc} + H_{t-1}W_{hc} + b_c ) \\\\\n",
        "&\\text{Input Gate} &&& I_t &= \\sigma( X_tW_{xi} + H_{t-1}W_{hi} + b_i ) \\\\\n",
        "&\\text{Forget Gate} &&& F_t &= \\sigma( X_tW_{xf} + H_{t-1}W_{hf} + b_f ) \\\\\n",
        "&\\text{Output Gate} &&& O_t &= \\sigma( X_tW_{xo} + H_{t-1}W_{ho} + b_o ) \\\\\n",
        "\\end{align*}\n",
        "$$\n",
        "\n",
        "Implement the LSTM class below. In particular,\n",
        "-  Complete the initialization function *init_params()*. Weights should be initialized using `torch.randn` multiplied with a scale of 0.1. Biases should be initialized to 0.\n",
        "- Complete the function *lstm()* which performs the feed-forward pass of LSTM. **Do not** use `nn.LSTM` or `nn.LSTMCell` in your implementation."
      ]
    },
    {
      "cell_type": "code",
      "execution_count": 18,
      "metadata": {
        "deletable": false,
        "id": "rhPfb8chjFem",
        "nbgrader": {
          "cell_type": "code",
          "checksum": "386a51799571153e76849c4b5ebb7f73",
          "grade": false,
          "grade_id": "cell-e43516618029ca06",
          "locked": false,
          "schema_version": 3,
          "solution": true,
          "task": false
        }
      },
      "outputs": [],
      "source": [
        "class LSTM(nn.Module):\n",
        "  def __init__(self, input_size, hidden_size, device):\n",
        "    super(LSTM, self).__init__()\n",
        "    self.device = device\n",
        "    self.params = nn.ParameterList(self.init_params(input_size, hidden_size))\n",
        "    \"\"\"\n",
        "    Inputs:\n",
        "      input_size: int, feature dimension of input sequence\n",
        "      hidden_size: int, feature dimension of hidden state\n",
        "      device: torch.device()\n",
        "    \"\"\"\n",
        "\n",
        "  def init_params(self, input_size, hidden_size):\n",
        "    \"\"\"\n",
        "    Inputs:\n",
        "      input_size: int, feature dimension of input sequence\n",
        "      hidden_size: int, feature dimension of hidden state\n",
        "\n",
        "    Outputs:\n",
        "      Weights for proposal: W_xc, W_hc, b_c\n",
        "      Weights for input gate: W_xi, W_hi, b_i\n",
        "      Weights for forget gate: W_xf, W_hf, b_f\n",
        "      Weights for output gate: W_xo, W_ho, b_o\n",
        "    \"\"\"\n",
        "    W_xc, W_hc, b_c = None, None, None\n",
        "    W_xi, W_hi, b_i = None, None, None\n",
        "    W_xf, W_hf, b_f = None, None, None\n",
        "    W_xo, W_ho, b_o = None, None, None\n",
        "    ##############################################################################\n",
        "    # TODO: Initialize the weights and biases. The result will be stored in\n",
        "    # `params` below. Weights should be initialized using `torch.randn` multiplied\n",
        "    # with the scale (0.1). Biases should be initialized to 0.\n",
        "    ##############################################################################\n",
        "    # Replace \"pass\" statement with your code (4 pts)\n",
        "\n",
        "    #0.1 is scale, could make variable but this works\n",
        "    #make nn.Parameter?\n",
        "    W_xc = (torch.randn(input_size, hidden_size) * 0.1)\n",
        "    W_hc = (torch.randn(hidden_size, hidden_size) * 0.1)\n",
        "    b_c = (torch.zeros(hidden_size))\n",
        "\n",
        "    W_xi = (torch.randn(input_size, hidden_size) * 0.1)\n",
        "    W_hi = (torch.randn(hidden_size, hidden_size) * 0.1)\n",
        "    b_i = (torch.zeros(hidden_size))\n",
        "\n",
        "    W_xf = (torch.randn(input_size, hidden_size) * 0.1)\n",
        "    W_hf = (torch.randn(hidden_size, hidden_size) * 0.1)\n",
        "    b_f = (torch.zeros(hidden_size))\n",
        "\n",
        "    W_xo = (torch.randn(input_size, hidden_size) * 0.1)\n",
        "    W_ho = (torch.randn(hidden_size, hidden_size) * 0.1)\n",
        "    b_o = (torch.zeros(hidden_size))\n",
        "    # END OF YOUR CODE\n",
        "\n",
        "    params = [W_xc, W_hc, b_c, W_xi, W_hi, b_i, W_xf, W_hf, b_f, W_xo, W_ho, b_o]\n",
        "    return params\n",
        "\n",
        "\n",
        "  def lstm(self, X, state):\n",
        "    \"\"\"\n",
        "    Inputs:\n",
        "      X: tuple of tensors (src, src_len). src, size (N, D_in) or (N, T, D_in), where N is the batch size,\n",
        "        T is the length of the sequence(s). src_len, size of (N,), is the valid length for each sequence.\n",
        "\n",
        "      state: tuple of tensors (h, c). h, size of (N, hidden_size) is the hidden state of LSTM. c, size of\n",
        "            (N, hidden_size), is the memory cell of the LSTM.\n",
        "\n",
        "    Outputs:\n",
        "      o: tensor of size (N, T, hidden_size). Contains the output features (the hidden state H_t) for each t.\n",
        "      state: the same as input state. Contains the hidden state H_T and cell state C_T for the last timestep T.\n",
        "    \"\"\"\n",
        "\n",
        "    src, valid_len = X\n",
        "    h, c = state\n",
        "\n",
        "    # make sure always has a T dim\n",
        "    if len(src.shape) == 2:\n",
        "      src = src.unsqueeze(1)\n",
        "\n",
        "    N, T, D_in = src.shape\n",
        "    W_xc, W_hc, b_c, W_xi, W_hi, b_i, W_xf, W_hf, b_f, W_xo, W_ho, b_o = self.params\n",
        "    o = []\n",
        "    ##############################################################################\n",
        "    # TODO: Implement the forward pass of the LSTM.\n",
        "    ##############################################################################\n",
        "    # Replace \"pass\" statement with your code (5 pts)\n",
        "    for step in range(T):\n",
        "      x_t = src[:, step, :]\n",
        "\n",
        "      proposal = torch.tanh(x_t @ W_xc + h @ W_hc + b_c)\n",
        "      input_gate = torch.sigmoid(x_t @ W_xi + h @ W_hi + b_i) #values between 0, 1 so use sigmoid not tanh... oops\n",
        "      forget_gate = torch.sigmoid(x_t @ W_xf + h @ W_hf + b_f)\n",
        "      output_gate = torch.sigmoid(x_t @ W_xo + h @ W_ho + b_o)\n",
        "\n",
        "      c = (forget_gate * c) + (input_gate * proposal) #update state c\n",
        "      h = output_gate * torch.tanh(proposal) #update state h\n",
        "\n",
        "      o.append(h.unsqueeze(1))\n",
        "\n",
        "    o = torch.cat(o, dim=1)\n",
        "\n",
        "    # END OF YOUR CODE\n",
        "\n",
        "    state = (h, c)\n",
        "    return o, state\n",
        "\n",
        "  def forward(self, inputs, state):\n",
        "    return self.lstm(inputs, state)"
      ]
    },
    {
      "cell_type": "markdown",
      "metadata": {
        "id": "3_Mo2vb1jFem"
      },
      "source": [
        "Check that your output has the correct shape. You should see:\n",
        "\n",
        "```\n",
        "torch.Size([12, 8, 5])\n",
        "torch.Size([12, 5])\n",
        "torch.Size([12, 5])\n",
        "```"
      ]
    },
    {
      "cell_type": "code",
      "execution_count": 19,
      "metadata": {
        "id": "B30tskKHjFem",
        "colab": {
          "base_uri": "https://localhost:8080/"
        },
        "outputId": "55f1c6e3-ae12-43b3-c1dd-af865b5a6af5"
      },
      "outputs": [
        {
          "output_type": "stream",
          "name": "stdout",
          "text": [
            "torch.Size([12, 8, 5])\n",
            "torch.Size([12, 5])\n",
            "torch.Size([12, 5])\n"
          ]
        }
      ],
      "source": [
        "test_lstm = LSTM(10, 5, torch.device('cpu'))\n",
        "test_src = torch.ones(12, 8, 10)\n",
        "test_src_len = torch.ones(12) * 8\n",
        "test_h = torch.zeros(12, 5).float()\n",
        "test_c = torch.zeros(12, 5).float()\n",
        "\n",
        "test_o, test_state = test_lstm((test_src, test_src_len), (test_h, test_c))\n",
        "\n",
        "print(test_o.shape)\n",
        "print(test_state[0].shape)\n",
        "print(test_state[1].shape)\n"
      ]
    },
    {
      "cell_type": "markdown",
      "metadata": {
        "id": "zB3Ots72jFem"
      },
      "source": [
        "### Attention Mechanism"
      ]
    },
    {
      "cell_type": "markdown",
      "metadata": {
        "id": "QEqiOnvXjFen"
      },
      "source": [
        "Another improvement we can make to our model is the Attention Mechanism. An example illustrating why applying attention mechanisms can improve the performance is shown in the picture below. An English sentence and its Chinese is visualized and aligned into blue boxes and red boxes, respectively. It can be seen that the Chinese character '她' has a long distance from its English counterpart, 'she'. Since only the final hidden state is passed to the decoder, it's hard for the baseline model to 'attend' to information a long time ago."
      ]
    },
    {
      "cell_type": "markdown",
      "metadata": {
        "id": "p2k1WLJ0jFer"
      },
      "source": [
        "<div>\n",
        "<img src=\"https://lilianweng.github.io/lil-log/assets/images/encoder-decoder-example.png\" width=\"600\"/>\n",
        "</div>\n",
        "Image source: https://lilianweng.github.io/lil-log/assets/images/encoder-decoder-example.png"
      ]
    },
    {
      "cell_type": "markdown",
      "metadata": {
        "id": "CoRDfmoHjFer"
      },
      "source": [
        "- **Attention**\n",
        "\n",
        "    Given a query, $\\mathbf{q} \\in R^{d_q}$, and a set of $N$ (key, value) pairs, $\\{ \\mathbf{k}_i, \\mathbf{v}_i\\}^N$ where $k_i \\in R^{d_k}$ and $v_i \\in R^{d_v}$, the attention mechanism computes a weighted sum of values based on the normalized score obtained from the query and each key:\n",
        "    \n",
        "    \\begin{align*}\n",
        "    a_i &= \\alpha(\\mathbf{q}, \\mathbf{k_i}) \\\\\n",
        "    \\mathbf{a} &= [a_1, ..., a_n] \\\\\n",
        "    \\mathbf{b} &= \\text{softmax}(\\mathbf{a}) \\\\\n",
        "    \\mathbf{o} &= \\mathbf{b} \\cdot \\mathbf{V}\\text{, where } \\mathbf{V} = \\{\\mathbf{v}_i\\}^N\n",
        "    \\end{align*}\n",
        "    \n",
        "    The $\\alpha()$ function, which maps two vectors into a scalar, is the score function that can be chosen from a wide range of functions: e.g. the cosine function, dot-product function, scaled dot-product funtion and etc.\n"
      ]
    },
    {
      "cell_type": "markdown",
      "metadata": {
        "id": "Pi3UjQ_PjFer"
      },
      "source": [
        "- **Masked Softmax**\n",
        "\n",
        "For our machine translation task, the inputs and outputs may be of variable length (ie. each training example may have a different number of words). As shown above, we pad our inputs with a special `pad` token so that they all have the same length to make them easier to work with. However, when we take the softmax, we only want to include the non-`pad` items, so we need to write a special `masked_softmax` function to handle this. We can achieve the masking by setting masked elements to a large negative value. Then when we take the `exp`, those elements will be 0 and won't contribute to the softmax. We provide the implementation of this for you."
      ]
    },
    {
      "cell_type": "code",
      "execution_count": 20,
      "metadata": {
        "id": "wR5lGdsYjFer"
      },
      "outputs": [],
      "source": [
        "def masked_softmax(X, valid_length):\n",
        "  \"\"\"\n",
        "  inputs:\n",
        "    X: 3-D tensor\n",
        "    valid_length: 1-D or 2-D tensor\n",
        "  \"\"\"\n",
        "  mask_value = -1e7\n",
        "\n",
        "  if len(X.shape) == 2:\n",
        "    X = X.unsqueeze(1)\n",
        "\n",
        "  N, n, m = X.shape\n",
        "\n",
        "  if len(valid_length.shape) == 1:\n",
        "    valid_length = valid_length.repeat_interleave(n, dim=0)\n",
        "  else:\n",
        "    valid_length = valid_length.reshape((-1,))\n",
        "\n",
        "  mask = torch.arange(m)[None, :].to(X.device) >= valid_length[:, None]\n",
        "  X.view(-1, m)[mask] = mask_value\n",
        "\n",
        "  Y = torch.softmax(X, dim=-1)\n",
        "\n",
        "\n",
        "  return Y"
      ]
    },
    {
      "cell_type": "code",
      "execution_count": 21,
      "metadata": {
        "id": "Sn1KAbprjFer",
        "colab": {
          "base_uri": "https://localhost:8080/"
        },
        "outputId": "a62d14ef-053e-4bba-b47f-617a5b433362"
      },
      "outputs": [
        {
          "output_type": "execute_result",
          "data": {
            "text/plain": [
              "tensor([[[0.4667, 0.5333, 0.0000, 0.0000],\n",
              "         [0.5474, 0.4526, 0.0000, 0.0000]],\n",
              "\n",
              "        [[0.2324, 0.5569, 0.2107, 0.0000],\n",
              "         [0.3379, 0.4132, 0.2489, 0.0000]]])"
            ]
          },
          "metadata": {},
          "execution_count": 21
        }
      ],
      "source": [
        "masked_softmax(torch.rand(2, 2, 4), torch.tensor([2, 3]))"
      ]
    },
    {
      "cell_type": "markdown",
      "metadata": {
        "id": "zFcl4VxrjFer"
      },
      "source": [
        "- **Scaled Dot Product Attention**\n",
        "The scaled dot-product attention uses the score function as: $ \\alpha(\\mathbf{q}, \\mathbf{k}) = \\mathbf{q} \\mathbf{k}^T / \\sqrt{d} $, where $d$ is the dimension of query (which in this case is equal to the dimension of the keys). The following figures visualizes this process in matrix form, in which $Q \\in \\mathcal{R}^{m\\times d_k}, \\mathbf{K} \\in \\mathcal{R}^{n \\times d_k}$, and $\\mathbf{V} \\in \\mathcal{R}^{n \\times d_v}$.\n",
        "\n",
        "    <div>\n",
        "    <img src=\"http://jalammar.github.io/images/t/self-attention-matrix-calculation-2.png\" width=\"600\"/>\n",
        "    </div>\n",
        "Image source: http://jalammar.github.io/images/t/self-attention-matrix-calculation-2.png\n",
        "\n",
        "Implement the DotProductAttention below. Do not use any loops in your implementation."
      ]
    },
    {
      "cell_type": "code",
      "execution_count": 22,
      "metadata": {
        "deletable": false,
        "id": "fH6x2oLTjFes",
        "nbgrader": {
          "cell_type": "code",
          "checksum": "8b7a6c1703c6c230a006a6b86326a3b9",
          "grade": false,
          "grade_id": "cell-eac4fccbcd4f068e",
          "locked": false,
          "schema_version": 3,
          "solution": true,
          "task": false
        }
      },
      "outputs": [],
      "source": [
        "class DotProductAttention(nn.Module):\n",
        "  def __init__(self):\n",
        "      super(DotProductAttention, self).__init__()\n",
        "\n",
        "  def forward(self, query, key, value, valid_length=None):\n",
        "    \"\"\"\n",
        "    inputs:\n",
        "      query: tensor of size (B, n, d)\n",
        "      key: tensor of size (B, m, d)\n",
        "      value: tensor of size (B, m, dim_v)\n",
        "      valid_length: (B, )\n",
        "\n",
        "      B is the batch_size, n is the number of queries, m is the number of <key, value> pairs,\n",
        "      d is the feature dimension of the query, and dim_v is the feature dimension of the value.\n",
        "\n",
        "    Outputs:\n",
        "      attention: tensor of size (B, n, dim_v), weighted sum of values\n",
        "    \"\"\"\n",
        "    ##############################################################################\n",
        "    # TODO: Implement the forward pass of DotProductAttention. Do not\n",
        "    # use any loops in your implementation.\n",
        "    ##############################################################################\n",
        "    # Replace \"pass\" statement with your code (4 pts)\n",
        "    a = torch.bmm(query, key.transpose(1,2)) / torch.sqrt(torch.tensor(query.size(-1), dtype=torch.float32)) #include dtype I think for error catching\n",
        "    b = masked_softmax(a, valid_length)\n",
        "    attention = torch.bmm(b, value)\n",
        "\n",
        "    # END OF YOUR CODE\n",
        "\n",
        "    return attention"
      ]
    },
    {
      "cell_type": "markdown",
      "metadata": {
        "id": "wozEYxrzjFes"
      },
      "source": [
        "### Correctness Check for DotProductAttention\n",
        "\n",
        "Run the following snippet to check your implementation of DotProductAttention.\n",
        "\n",
        "Expected output:\n",
        "\n",
        "```\n",
        "tensor([[[ 2.0000,  3.0000, 4.0000, 5.0000]],\n",
        "\n",
        "        [[10.0000, 11.0000, 12.0000, 13.0000]]])\n",
        "```\n"
      ]
    },
    {
      "cell_type": "code",
      "execution_count": 23,
      "metadata": {
        "id": "mHgHg92BjFes",
        "colab": {
          "base_uri": "https://localhost:8080/"
        },
        "outputId": "357a0117-cec6-4a59-804c-b03568a39803"
      },
      "outputs": [
        {
          "output_type": "execute_result",
          "data": {
            "text/plain": [
              "tensor([[[ 2.0000,  3.0000,  4.0000,  5.0000]],\n",
              "\n",
              "        [[10.0000, 11.0000, 12.0000, 13.0000]]])"
            ]
          },
          "metadata": {},
          "execution_count": 23
        }
      ],
      "source": [
        "att = DotProductAttention()\n",
        "keys = torch.ones((2,10,2),dtype=torch.float)\n",
        "values = torch.arange((40), dtype=torch.float).view(1,10,4).repeat(2,1,1)\n",
        "att(torch.ones((2,1,2),dtype=torch.float), keys, values, torch.FloatTensor([2, 6]))\n"
      ]
    },
    {
      "cell_type": "markdown",
      "metadata": {
        "id": "5tgmXfoXjFes"
      },
      "source": [
        "- **MLP Attention**\n",
        "\n",
        "  In MLP attention, we project both query and keys into $R^h$, add the results, and use a $\\text{tanh}$ before multiplying by the values. The score function is defined as:\n",
        "  \n",
        "  $\\alpha(\\mathbf{q}, \\mathbf{k}) = \\mathbf{v}^T\\text{tanh}(W_k\\mathbf{k} + W_q\\mathbf{q})$\n",
        "  \n",
        "  where $\\mathbf{v}, \\mathbf{W_k}\\text{, and }\\mathbf{W_q}$ are learnable parameters.\n",
        "    \n",
        "Implement the MLP attention in matrix form without using any loops."
      ]
    },
    {
      "cell_type": "code",
      "execution_count": 24,
      "metadata": {
        "deletable": false,
        "id": "T9asEUm-jFes",
        "nbgrader": {
          "cell_type": "code",
          "checksum": "9440f3519ad5f8037f192758aecca64a",
          "grade": false,
          "grade_id": "cell-6be727894d4fd817",
          "locked": false,
          "schema_version": 3,
          "solution": true,
          "task": false
        }
      },
      "outputs": [],
      "source": [
        "class MLPAttention(nn.Module):\n",
        "  def __init__(self, d_v, d_k, d_q):\n",
        "    super(MLPAttention, self).__init__()\n",
        "    \"\"\"\n",
        "    Inputs:\n",
        "      d_k: feature dimension of key\n",
        "      d_v: feature dimension of vector v\n",
        "      d_q: feature dimension of query\n",
        "    \"\"\"\n",
        "    ##############################################################################\n",
        "    # TODO: Initialize learnable parameters\n",
        "    ##############################################################################\n",
        "    # Replace \"pass\" statement with your code (1.5 pts)\n",
        "    #Did not use weight? We did above when initializing but did not say to this time, else you should multiply by 0.1\n",
        "    self.v = nn.Linear(d_v, 1) #used self. because __init__ function\n",
        "    self.W_k = nn.Linear(d_k, d_v)\n",
        "    self.W_q = nn.Linear(d_q, d_v)\n",
        "    # END OF YOUR CODE\n",
        "\n",
        "  def forward(self, query, key, value, valid_length):\n",
        "    \"\"\"\n",
        "    inputs:\n",
        "      query: tensor of size (B, n, d)\n",
        "      key: tensor of size (B, m, d)\n",
        "      value: tensor of size (B, m, dim_v)\n",
        "      valid_length: either (B, )\n",
        "\n",
        "      B is the batch_size, n is the number of queries, m is the number of <key, value> pairs,\n",
        "      d is the feature dimension of the query, and dim_v is the feature dimension of the value.\n",
        "\n",
        "    Outputs:\n",
        "      attention: tensor of size (B, n, dim_v), weighted sum of values\n",
        "    \"\"\"\n",
        "    ##############################################################################\n",
        "    # TODO: Implement the forward pass of MLPAttention. Do not\n",
        "    # use any loops in your implementation.\n",
        "    ##############################################################################\n",
        "    # Replace \"pass\" statement with your code (3 pts)\n",
        "    \"\"\"k = torch.matmul(key, self.W_k)\n",
        "    q = torch.matmul(query, self.W_q)\"\"\"\n",
        "\n",
        "    k = self.W_k(key)\n",
        "    q = self.W_q(query)\n",
        "\n",
        "    # k: (B, m, d_v) -> (B, 1, m, d_v)\n",
        "    # q: (B, n, d_v) -> (B, n, 1, d_v)\n",
        "    # Result: (B, n, m, d_v)\n",
        "\n",
        "    #a = torch.matmul(torch.tanh(k[:, None, :, :] + q[:, :, None, :]), self.v).squeeze(-1)\n",
        "    a = torch.tanh(q.unsqueeze(2) + k.unsqueeze(1)) #help from a friend\n",
        "\n",
        "    Y = self.v(a)\n",
        "    Y = masked_softmax(Y.squeeze(3), valid_length)\n",
        "    Y = torch.bmm(Y, value)\n",
        "    #error is here\n",
        "    # END OF YOUR CODE\n",
        "    return Y"
      ]
    },
    {
      "cell_type": "markdown",
      "metadata": {
        "id": "ECgF4ZQOjFes"
      },
      "source": [
        "### Correctness Check for MLPAttention\n",
        "\n",
        "Run the following snippet to check your implementation of MLPAttention.\n",
        "\n",
        "Expected output:\n",
        "\n",
        "```\n",
        "tensor([[[ 2.0000,  3.0000, 4.0000, 5.0000]],\n",
        "\n",
        "        [[10.0000, 11.0000, 12.0000, 13.0000]]])\n",
        "```"
      ]
    },
    {
      "cell_type": "code",
      "execution_count": 25,
      "metadata": {
        "id": "60SCdL_3jFes",
        "colab": {
          "base_uri": "https://localhost:8080/"
        },
        "outputId": "59b51b1c-ae98-4cdf-df9f-165c76909f0f"
      },
      "outputs": [
        {
          "output_type": "execute_result",
          "data": {
            "text/plain": [
              "tensor([[[ 2.0000,  3.0000,  4.0000,  5.0000]],\n",
              "\n",
              "        [[10.0000, 11.0000, 12.0000, 13.0000]]], grad_fn=<BmmBackward0>)"
            ]
          },
          "metadata": {},
          "execution_count": 25
        }
      ],
      "source": [
        "atten = MLPAttention(4, 2, 2)\n",
        "atten(torch.ones((2,1,2),dtype=torch.float), keys, values, torch.FloatTensor([2, 6])) #changed it to 2,1,2 because was causing error (list 2x thickness)"
      ]
    },
    {
      "cell_type": "markdown",
      "metadata": {
        "id": "uUzIwnp3jFet"
      },
      "source": [
        "    \n",
        "- **Using Attention in seq2seq Models**\n",
        "\n",
        "    <div>\n",
        "    <img src=\"https://d2l.ai/_images/seq2seq-attention.svg\" width=\"600\"/>\n",
        "    </div>\n",
        "Image source: https://d2l.ai/_images/seq2seq-attention.svg\n",
        "\n",
        "    Now we want to add attention to the seq2seq model. As we previously stated, attention allows the decoder to have more direct access to previous states in the encoder. In the context of machine translation, when the decoder is predicting a word in the translation, it can focus on certain words in the original language. Therefore, we want the keys and the values of the attention layer to be the output of the encoder at each step. The query for the attention layer would be the decoder's previous hidden state. The output of the attention layer, referred to as the context, is concatenated with the decoder input and fed into the decoder.\n",
        "    \n",
        "    In rough pseudocode, this looks like:\n",
        "    ```\n",
        "    context = attention(query=h_prev, keys=encoder_output, values=encoder_output)\n",
        "    decoder_input = concatenate([decoder_input, context])\n",
        "    ```"
      ]
    },
    {
      "cell_type": "markdown",
      "metadata": {
        "id": "oS_dNUx1jFet"
      },
      "source": [
        "### LSTM Encoder-Decoder\n",
        "\n",
        "\n",
        "Build a seq2seq model with LSTM and attention.\n",
        "\n",
        "- Complete the Encoder forward() function.\n",
        "- Complete the Decoder forward() and predict() functions. The decoder should utilize the attention mechanism.\n",
        "- Find a good learning rate for training this model. Feel free to add code here to test out different learning rates, but make sure that your best model is saved in `lstm_net`."
      ]
    },
    {
      "cell_type": "code",
      "execution_count": 26,
      "metadata": {
        "deletable": false,
        "id": "OS66DYwVjFet",
        "nbgrader": {
          "cell_type": "code",
          "checksum": "fbd2ff0f838eab4eeb305bd07bbd3a8e",
          "grade": false,
          "grade_id": "cell-85d8bda82bc92dd8",
          "locked": false,
          "schema_version": 3,
          "solution": true,
          "task": false
        }
      },
      "outputs": [],
      "source": [
        "class Encoder(nn.Module):\n",
        "  def __init__(self, vocab_size, embedding_dim, hidden_size, device):\n",
        "    super(Encoder, self).__init__()\n",
        "    \"\"\"\n",
        "    inputs:\n",
        "      vocab_size: int, the number of words in the vocabulary\n",
        "      embedding_dim: int, dimension of the word embedding\n",
        "      hidden_size: int, dimension of vallina RNN\n",
        "    \"\"\"\n",
        "    self.embedding = nn.Embedding(vocab_size, embedding_dim)\n",
        "    self.enc = LSTM(embedding_dim, hidden_size, device)\n",
        "    self.hidden_size = hidden_size\n",
        "\n",
        "  def forward(self, sources, valid_len):\n",
        "    ##############################################################################\n",
        "    # TODO: Implement LSTM Encoder forward pass\n",
        "    ##############################################################################\n",
        "    # Replace \"pass\" statement with your code (2 pts)\n",
        "    word_embedded = self.embedding(sources)\n",
        "    word_embedded = word_embedded.type(torch.float32) #error catching\n",
        "    N = word_embedded.shape[0]\n",
        "\n",
        "    h = sources.new_zeros((N, self.hidden_size), dtype=torch.float32, device=sources.device) #adding device to fix cpu and cuda error\n",
        "    c = sources.new_zeros((N, self.hidden_size), dtype=torch.float32, device=sources.device)\n",
        "\n",
        "    outputs, (h, c) = self.enc((word_embedded, valid_len), (h, c))\n",
        "    # END OF YOUR CODE\n",
        "    return outputs, (h, c)"
      ]
    },
    {
      "cell_type": "code",
      "execution_count": 27,
      "metadata": {
        "deletable": false,
        "id": "SNJ8yU9EjFet",
        "nbgrader": {
          "cell_type": "code",
          "checksum": "d8f15ad91df74611a4f70744a202ad53",
          "grade": false,
          "grade_id": "cell-154ce877082ed913",
          "locked": false,
          "schema_version": 3,
          "solution": true,
          "task": false
        }
      },
      "outputs": [],
      "source": [
        "class Decoder(nn.Module):\n",
        "  def __init__(self, vocab_size, embedding_dim, hidden_size, device):\n",
        "    super(Decoder, self).__init__()\n",
        "    \"\"\"\n",
        "    inputs:\n",
        "      vocab_size: int, the number of words in the vocabulary\n",
        "      embedding_dim: int, dimension of the word embedding\n",
        "      hidden_size: int, dimension of vallina RNN\n",
        "    \"\"\"\n",
        "\n",
        "    self.embedding = nn.Embedding(vocab_size, embedding_dim)\n",
        "    self.enc = LSTM(embedding_dim+hidden_size, hidden_size, device)\n",
        "    self.att = MLPAttention(d_v=hidden_size, d_k=hidden_size, d_q=hidden_size)\n",
        "    self.output_emb = nn.Linear(hidden_size, vocab_size)\n",
        "    self.hidden_size = hidden_size\n",
        "\n",
        "  def forward(self, state, target, valid_len):\n",
        "    loss = 0\n",
        "    preds = []\n",
        "\n",
        "    ##############################################################################\n",
        "    # TODO: Implement LSTM Decoder forward pass. Your solution should also use\n",
        "    # self.att for attention.\n",
        "    ##############################################################################\n",
        "    # Replace \"pass\" statement with your code (4 pts)\n",
        "    encoder_output, (h, c), length = state\n",
        "    embeds = self.embedding(target)\n",
        "    n, T = target.shape\n",
        "\n",
        "    for t in range(T - 1):\n",
        "      context = self.att(h.unsqueeze(1), encoder_output, encoder_output, length)\n",
        "      decoder_input = torch.concat([embeds[:,t].unsqueeze(1), context], dim=2)\n",
        "\n",
        "      o, (h, c) = self.enc((decoder_input, valid_len), (h,c))\n",
        "      out = self.output_emb(o.squeeze(1))\n",
        "      preds.append(out)\n",
        "\n",
        "      loss = loss + F.nll_loss(F.log_softmax(out, dim=1), target[:, t+1], ignore_index=0) #got from above, my loss didn't work but this has nans so\n",
        "\n",
        "    pred = torch.stack(preds, dim = 1)\n",
        "    # END OF YOUR CODE\n",
        "    return loss, preds\n",
        "\n",
        "  def predict(self, state, target, valid_len):\n",
        "    pred = None\n",
        "    ##############################################################################\n",
        "    # TODO: Implement LSTM Encoder prediction. Your solution should also use\n",
        "    # self.att for attention.\n",
        "    ##############################################################################\n",
        "    # Replace \"pass\" statement with your code (4 pts)\n",
        "    preds = []\n",
        "    encoder_output, (h,c), length = state\n",
        "    n, T = target.shape\n",
        "    input = target[:,0]\n",
        "\n",
        "    for t in range(1, target.size(1)):\n",
        "      target_emb = self.embedding(input).unsqueeze(1)\n",
        "      attention = self.att(h.unsqueeze(1), encoder_output, encoder_output, length)\n",
        "      input = torch.cat([target_emb, attention], dim = 2)\n",
        "\n",
        "      o, (h,c) = self.enc((input, valid_len), (h,c))\n",
        "      pred = self.output_emb(o.squeeze(1))\n",
        "      input = pred.argmax(dim = 1)\n",
        "      preds.append(input)\n",
        "\n",
        "    pred = torch.stack(preds,dim = 1)\n",
        "    # END OF YOUR CODE\n",
        "    return pred\n",
        "\n"
      ]
    },
    {
      "cell_type": "code",
      "execution_count": 28,
      "metadata": {
        "id": "0dlMsFlXjFet"
      },
      "outputs": [],
      "source": [
        "class NMTLSTM(nn.Module):\n",
        "  def __init__(self, src_vocab_size, tgt_vocab_size, embedding_dim, hidden_size, device):\n",
        "    super(NMTLSTM, self).__init__()\n",
        "    self.enc = Encoder(src_vocab_size, embedding_dim, hidden_size, device)\n",
        "    self.dec = Decoder(tgt_vocab_size, embedding_dim, hidden_size, device)\n",
        "\n",
        "  def forward(self, src, src_len, tgt, tgt_len):\n",
        "    outputs, (h, c) = self.enc(src, src_len)\n",
        "    loss, pred = self.dec((outputs, (h, c), src_len), tgt, tgt_len)\n",
        "    return loss, pred\n",
        "\n",
        "  def predict(self, src, src_len, tgt, tgt_len):\n",
        "    outputs, (h, c) = self.enc(src, src_len)\n",
        "    pred = self.dec.predict((outputs, (h, c), src_len), tgt, tgt_len)\n",
        "    return pred\n"
      ]
    },
    {
      "cell_type": "code",
      "execution_count": 33,
      "metadata": {
        "deletable": false,
        "id": "uT6kUHk2jFet",
        "nbgrader": {
          "cell_type": "code",
          "checksum": "73bc6101f369326d21d0efe8439c652b",
          "grade": false,
          "grade_id": "cell-bfaaa623c7199b2d",
          "locked": false,
          "schema_version": 3,
          "solution": true,
          "task": false
        },
        "colab": {
          "base_uri": "https://localhost:8080/"
        },
        "outputId": "5550c8bf-0701-4162-b665-c2f3bd14f2bb"
      },
      "outputs": [
        {
          "output_type": "stream",
          "name": "stdout",
          "text": [
            "(tensor([4, 5, 0, 0, 0, 0, 0, 0, 0, 0]), tensor(2), tensor([1, 4, 5, 2, 0, 0, 0, 0, 0, 0]), tensor(4))\n",
            "iter 0 / 7800\tLoss:\tnan\n",
            "pred:\t tensor([[-0.1928,  0.4104, -0.1086,  ...,  0.2304, -0.0253, -0.1600],\n",
            "        [-0.2375,  0.4713, -0.0785,  ...,  0.2005, -0.0209, -0.2314],\n",
            "        [-0.1341,  0.3979, -0.0967,  ...,  0.2509, -0.0169, -0.1639],\n",
            "        ...,\n",
            "        [-0.1110,  0.4234, -0.1319,  ...,  0.1931, -0.0287, -0.1488],\n",
            "        [-0.1766,  0.4168, -0.0804,  ...,  0.1957, -0.0403, -0.2039],\n",
            "        [-0.1956,  0.4684, -0.1231,  ...,  0.2493, -0.0008, -0.1645]])\n",
            "\n",
            "tgt:\t tensor([ 92, 341,   3,   5,   2,   0,   0,   0,   0])\n",
            "\n",
            "iter 156 / 7800\tLoss:\tnan\n",
            "pred:\t tensor([[-2.9213, -2.3143,  0.6090,  ..., -1.9828, -1.3126, -1.9369],\n",
            "        [-2.8938, -2.2838,  0.5707,  ..., -1.9623, -1.3005, -1.9131],\n",
            "        [-2.8508, -2.2500,  0.5262,  ..., -1.9394, -1.2826, -1.8943],\n",
            "        ...,\n",
            "        [-2.8532, -2.2550,  0.5293,  ..., -1.9295, -1.2789, -1.8909],\n",
            "        [-2.8344, -2.2438,  0.5128,  ..., -1.9265, -1.2747, -1.8944],\n",
            "        [-2.9213, -2.3143,  0.6090,  ..., -1.9828, -1.3126, -1.9369]])\n",
            "\n",
            "tgt:\t tensor([155, 357, 254,   3,  11,   2,   0,   0,   0])\n",
            "\n",
            "iter 312 / 7800\tLoss:\tnan\n",
            "pred:\t tensor([[-3.5371, -2.9482,  0.2118,  ..., -1.8110, -0.6572, -2.1363],\n",
            "        [-3.5829, -2.9822,  0.2507,  ..., -1.8256, -0.6898, -2.1400],\n",
            "        [-3.5008, -2.9379,  0.1230,  ..., -1.7688, -0.6198, -2.1206],\n",
            "        ...,\n",
            "        [-2.4591, -2.2246,  0.2302,  ..., -1.0016, -0.0464, -1.6720],\n",
            "        [-3.6693, -3.0309,  0.3797,  ..., -1.9060, -0.7435, -2.1683],\n",
            "        [-3.6303, -3.0045,  0.3511,  ..., -1.8842, -0.7270, -2.1563]])\n",
            "\n",
            "tgt:\t tensor([ 38,  40, 359,  11,   2,   0,   0,   0,   0])\n",
            "\n",
            "iter 468 / 7800\tLoss:\tnan\n",
            "pred:\t tensor([[-3.6820, -2.7485, -0.1592,  ..., -1.3702,  0.0067, -2.0367],\n",
            "        [-3.7760, -2.7231, -0.2814,  ..., -1.1977,  0.0986, -1.9406],\n",
            "        [-3.9617, -3.1568,  0.2566,  ..., -1.6499, -0.2193, -2.2334],\n",
            "        ...,\n",
            "        [-4.1172, -3.3441,  0.3034,  ..., -1.7198, -0.2933, -2.2875],\n",
            "        [-3.9811, -3.1757,  0.1752,  ..., -1.6136, -0.2126, -2.2118],\n",
            "        [-4.2250, -3.4584,  0.3607,  ..., -1.7895, -0.3450, -2.3323]])\n",
            "\n",
            "tgt:\t tensor([155, 157, 334,  11,   2,   0,   0,   0,   0])\n",
            "\n",
            "iter 624 / 7800\tLoss:\tnan\n",
            "pred:\t tensor([[-4.1867, -3.2864, -0.1628,  ..., -1.1068,  0.2476, -2.0402],\n",
            "        [-4.0190, -3.1369, -0.2021,  ..., -1.0530,  0.2754, -1.9624],\n",
            "        [-4.5321, -3.9275,  0.4093,  ..., -1.7527, -0.3925, -2.4143],\n",
            "        ...,\n",
            "        [-2.6548, -2.4851, -0.1543,  ..., -1.1787,  0.2126, -1.6434],\n",
            "        [-4.4695, -3.7313,  0.2801,  ..., -1.6121, -0.2009, -2.3425],\n",
            "        [-4.5176, -3.9107,  0.3909,  ..., -1.7530, -0.3989, -2.4208]])\n",
            "\n",
            "tgt:\t tensor([250,  75,   3,   5,   2,   0,   0,   0,   0])\n",
            "\n",
            "iter 780 / 7800\tLoss:\tnan\n",
            "pred:\t tensor([[-4.2248, -3.8116,  0.3574,  ..., -1.4036, -0.2196, -1.8691],\n",
            "        [-4.6807, -3.9169, -0.1286,  ..., -1.0271,  0.1032, -2.2080],\n",
            "        [-3.7276, -3.1664, -0.2689,  ..., -0.9951,  0.4805, -1.8104],\n",
            "        ...,\n",
            "        [-4.4476, -3.6420, -0.2598,  ..., -0.7497,  0.3910, -2.0142],\n",
            "        [-4.7894, -4.2754,  0.3645,  ..., -1.6639, -0.3694, -2.5263],\n",
            "        [-4.7024, -4.1644,  0.3403,  ..., -1.6295, -0.3375, -2.4923]])\n",
            "\n",
            "tgt:\t tensor([ 3,  3, 24,  2,  0,  0,  0,  0,  0])\n",
            "\n",
            "iter 936 / 7800\tLoss:\tnan\n",
            "pred:\t tensor([[-4.5619, -3.7494, -0.4392,  ..., -0.8404,  0.6618, -2.2429],\n",
            "        [-4.3711, -4.0431,  0.4385,  ..., -1.4867,  0.0837, -1.7960],\n",
            "        [-4.8252, -3.9832, -0.4174,  ..., -0.8254,  0.5700, -2.2486],\n",
            "        ...,\n",
            "        [-4.1711, -3.5425, -0.5585,  ..., -0.5774,  0.7965, -1.8542],\n",
            "        [-2.7669, -2.6264, -0.2372,  ..., -1.2557,  0.2653, -1.5370],\n",
            "        [-4.2507, -3.6059, -0.4249,  ..., -0.6876,  0.7942, -1.8483]])\n",
            "\n",
            "tgt:\t tensor([ 52, 358,   3,  11,   2,   0,   0,   0,   0])\n",
            "\n",
            "iter 1092 / 7800\tLoss:\tnan\n",
            "pred:\t tensor([[-2.9786, -2.6336, -0.5532,  ..., -0.3973,  1.5588, -1.7096],\n",
            "        [-4.9491, -4.5365,  0.2411,  ..., -1.6949,  0.1639, -2.6231],\n",
            "        [-2.6776, -2.4860, -0.3892,  ..., -1.0386,  0.4499, -1.3557],\n",
            "        ...,\n",
            "        [-4.7511, -4.3160,  0.0568,  ..., -1.5049,  0.2080, -2.4465],\n",
            "        [-4.9763, -4.5608,  0.2426,  ..., -1.7105,  0.1583, -2.6371],\n",
            "        [-4.1222, -3.6658, -0.5118,  ..., -0.8521,  0.9396, -2.0910]])\n",
            "\n",
            "tgt:\t tensor([318, 171, 319, 107, 249,  11,   2,   0,   0])\n",
            "\n",
            "iter 1248 / 7800\tLoss:\t7.141070\n",
            "pred:\t tensor([[-4.2984, -3.7291, -0.6413,  ...,  0.0063,  1.0994, -1.8017],\n",
            "        [-4.2550, -3.7304, -0.4639,  ...,  0.1334,  1.1540, -1.7493],\n",
            "        [-4.2084, -4.0042, -0.0090,  ..., -1.6674,  0.3084, -2.3328],\n",
            "        ...,\n",
            "        [-4.4092, -4.0022, -0.2396,  ..., -1.3559,  0.8218, -2.5763],\n",
            "        [-4.0449, -3.5713, -0.4958,  ..., -1.1598,  1.1694, -2.4787],\n",
            "        [-5.1047, -4.5673, -0.3404,  ..., -0.1594,  0.9291, -1.7498]])\n",
            "\n",
            "tgt:\t tensor([3, 5, 2, 0, 0, 0, 0, 0, 0])\n",
            "\n",
            "iter 1404 / 7800\tLoss:\tnan\n",
            "pred:\t tensor([[-5.3228, -5.0572,  0.3864,  ..., -1.2053,  0.9716, -2.3546],\n",
            "        [-4.6193, -4.1580, -0.0959,  ..., -1.8598, -0.0235, -2.1431],\n",
            "        [-3.6697, -3.0706, -0.9298,  ..., -1.1343,  1.2399, -2.2492],\n",
            "        ...,\n",
            "        [-4.0864, -3.4592, -1.1455,  ...,  0.3566,  0.9503, -1.4612],\n",
            "        [-2.7607, -2.5755, -0.6347,  ..., -0.8018,  1.1698, -1.9216],\n",
            "        [-5.6365, -5.0664,  0.2535,  ..., -2.0321, -0.2192, -2.7491]])\n",
            "\n",
            "tgt:\t tensor([15,  3,  5,  2,  0,  0,  0,  0,  0])\n",
            "\n",
            "iter 1560 / 7800\tLoss:\tnan\n",
            "pred:\t tensor([[-4.4781, -4.0558, -0.3521,  ..., -1.2683,  0.3190, -1.7819],\n",
            "        [-2.7626, -2.4988, -1.1151,  ..., -1.3064,  1.0922, -2.3355],\n",
            "        [-5.2436, -4.8206, -0.2314,  ..., -1.2038,  0.3224, -2.4426],\n",
            "        ...,\n",
            "        [-2.5889, -2.6532, -0.9106,  ...,  1.0318,  2.1847, -1.5017],\n",
            "        [-5.7720, -5.3146, -0.3606,  ..., -0.7849,  0.5818, -1.8553],\n",
            "        [-5.5510, -5.0049,  0.0444,  ..., -1.7192,  0.1388, -2.5204]])\n",
            "\n",
            "tgt:\t tensor([ 14, 116,  28, 247,  34, 367,  11,   2,   0])\n",
            "\n",
            "iter 1716 / 7800\tLoss:\tnan\n",
            "pred:\t tensor([[-5.1513e+00, -4.8586e+00,  2.2938e-01,  ..., -1.5482e+00,\n",
            "          8.7769e-02, -2.5745e+00],\n",
            "        [-5.9515e+00, -5.5076e+00, -5.4468e-01,  ..., -3.6844e-01,\n",
            "          5.2614e-01, -1.7570e+00],\n",
            "        [-4.8139e+00, -4.4941e+00, -1.5074e-03,  ..., -1.5594e+00,\n",
            "         -6.8552e-03, -2.3813e+00],\n",
            "        ...,\n",
            "        [-6.0000e+00, -5.5286e+00, -3.6213e-01,  ..., -3.8040e-01,\n",
            "          2.9940e-01, -1.5737e+00],\n",
            "        [-4.1190e+00, -3.9313e+00, -4.1966e-01,  ..., -1.4959e+00,\n",
            "          1.2539e-01, -2.2817e+00],\n",
            "        [-6.2026e+00, -5.7421e+00, -2.0783e-01,  ..., -9.7264e-01,\n",
            "          3.6032e-01, -1.9993e+00]])\n",
            "\n",
            "tgt:\t tensor([15, 75,  3,  3, 11,  2,  0,  0,  0])\n",
            "\n",
            "iter 1872 / 7800\tLoss:\tnan\n",
            "pred:\t tensor([[-5.2774, -4.8407, -0.7776,  ...,  0.4167,  0.8854, -1.3427],\n",
            "        [-6.4393, -6.0328, -0.1700,  ..., -1.3376, -0.2215, -2.3916],\n",
            "        [-3.1147, -2.9267, -0.9870,  ..., -0.8191,  1.4427, -2.2249],\n",
            "        ...,\n",
            "        [-4.1466, -3.8272, -0.5262,  ..., -0.0500,  2.2585, -2.2304],\n",
            "        [-4.6754, -4.1619, -0.8368,  ..., -1.4999,  1.0650, -2.5378],\n",
            "        [-5.9217, -5.4593, -0.3293,  ..., -0.0202,  0.5826, -1.4221]])\n",
            "\n",
            "tgt:\t tensor([ 3, 56,  3,  5,  2,  0,  0,  0,  0])\n",
            "\n",
            "iter 2028 / 7800\tLoss:\tnan\n",
            "pred:\t tensor([[-5.7026, -5.1355,  0.2664,  ..., -1.8408, -0.4048, -2.4116],\n",
            "        [-6.1134, -5.4133,  0.0204,  ..., -1.7116, -0.5957, -2.2361],\n",
            "        [-4.4377, -3.8437, -0.2553,  ..., -1.1206,  0.2235, -2.6427],\n",
            "        ...,\n",
            "        [-5.2141, -4.5779,  0.0553,  ..., -1.2357,  0.3581, -1.6066],\n",
            "        [-3.9564, -3.4428, -0.6236,  ..., -1.4911,  1.0964, -2.5385],\n",
            "        [-5.8565, -5.0824, -1.1651,  ..., -0.2006,  0.7421, -1.7080]])\n",
            "\n",
            "tgt:\t tensor([14,  3,  3, 11,  2,  0,  0,  0,  0])\n",
            "\n",
            "iter 2184 / 7800\tLoss:\tnan\n",
            "pred:\t tensor([[-4.6888, -4.0801, -1.0437,  ..., -0.8852,  2.0901, -2.7716],\n",
            "        [-6.2709, -5.9310, -0.8236,  ..., -0.5817,  0.7659, -1.6306],\n",
            "        [-4.7127, -4.3964, -0.4027,  ..., -1.7949,  0.5598, -2.5285],\n",
            "        ...,\n",
            "        [-4.8692, -4.6025, -0.9962,  ...,  1.1926,  1.0950, -1.3720],\n",
            "        [-5.2503, -4.9858, -0.8719,  ...,  1.1276,  0.7694, -1.2646],\n",
            "        [-5.5228, -5.1198, -0.9370,  ...,  0.6539,  0.7609, -1.4014]])\n",
            "\n",
            "tgt:\t tensor([ 38,  40, 324,  37, 353,  11,   2,   0,   0])\n",
            "\n",
            "iter 2340 / 7800\tLoss:\tnan\n",
            "pred:\t tensor([[-4.6589, -4.0091, -1.0218,  ..., -0.8110,  2.2670, -2.9985],\n",
            "        [-4.2202, -3.5565, -0.8377,  ..., -1.9663, -0.0973, -2.1346],\n",
            "        [-5.5895, -5.0029, -0.4888,  ..., -1.2814,  0.2921, -2.2139],\n",
            "        ...,\n",
            "        [-6.2857, -5.6649, -0.0155,  ..., -1.5828, -0.2493, -2.4119],\n",
            "        [-4.9131, -4.7684, -1.1038,  ...,  0.8038,  2.1601, -1.8773],\n",
            "        [-4.3758, -4.0749, -1.2226,  ...,  1.4868,  2.1002, -1.2828]])\n",
            "\n",
            "tgt:\t tensor([38, 40,  3, 11,  2,  0,  0,  0,  0])\n",
            "\n",
            "iter 2496 / 7800\tLoss:\tnan\n",
            "pred:\t tensor([[-4.1315e+00, -3.7600e+00, -2.0918e-01,  ..., -3.5226e-01,\n",
            "          1.1754e+00, -2.2576e+00],\n",
            "        [-4.1561e+00, -3.7312e+00, -5.3400e-01,  ..., -2.4042e+00,\n",
            "         -1.4526e-01, -2.1615e+00],\n",
            "        [-3.4006e+00, -3.2045e+00, -8.8353e-01,  ..., -1.6163e-01,\n",
            "          2.8927e+00, -3.1587e+00],\n",
            "        ...,\n",
            "        [-4.6530e+00, -4.2613e+00, -1.2582e+00,  ...,  5.3666e-02,\n",
            "          1.5431e+00, -1.9051e+00],\n",
            "        [-3.2027e+00, -2.6284e+00, -7.6222e-01,  ..., -2.1440e+00,\n",
            "         -1.4476e-03, -1.7895e+00],\n",
            "        [-5.1002e+00, -4.8440e+00, -8.5913e-01,  ...,  1.2721e+00,\n",
            "          1.3070e+00, -1.0220e+00]])\n",
            "\n",
            "tgt:\t tensor([ 62, 107,  14, 171, 191,  11,   2,   0,   0])\n",
            "\n",
            "iter 2652 / 7800\tLoss:\tnan\n",
            "pred:\t tensor([[-6.1980, -5.7685, -0.9567,  ...,  1.0206,  0.6582, -1.0912],\n",
            "        [-3.0068, -2.4813, -1.0610,  ..., -0.7054,  1.7116, -2.1684],\n",
            "        [-6.2431, -5.4549, -0.9999,  ...,  0.3163,  1.1713, -1.0192],\n",
            "        ...,\n",
            "        [-5.2147, -4.4737, -0.4757,  ..., -1.4423,  0.5434, -1.9882],\n",
            "        [-6.0925, -5.5776, -1.2170,  ...,  1.0448,  0.7081, -0.8988],\n",
            "        [-6.3555, -5.6292, -0.0221,  ..., -1.3510, -0.5217, -1.4974]])\n",
            "\n",
            "tgt:\t tensor([3, 5, 2, 0, 0, 0, 0, 0, 0])\n",
            "\n",
            "iter 2808 / 7800\tLoss:\tnan\n",
            "pred:\t tensor([[-4.9797, -4.5149, -0.6802,  ..., -1.1076,  1.3081, -2.2169],\n",
            "        [-6.0369, -5.6017, -1.0422,  ..., -0.3530,  0.3609, -1.3084],\n",
            "        [-5.4702, -4.9760, -0.6220,  ..., -1.0927,  0.0472, -1.3976],\n",
            "        ...,\n",
            "        [-3.5528, -3.0741, -1.9050,  ...,  1.8114,  2.0041, -1.7996],\n",
            "        [-4.6912, -4.2011, -0.7592,  ..., -1.0233,  1.2956, -2.1244],\n",
            "        [-4.6424, -4.1260,  0.5283,  ..., -2.1108,  1.2282, -1.8752]])\n",
            "\n",
            "tgt:\t tensor([38, 40,  3, 11,  2,  0,  0,  0,  0])\n",
            "\n",
            "iter 2964 / 7800\tLoss:\tnan\n",
            "pred:\t tensor([[-3.1652, -2.7405, -1.1628,  ..., -1.0677,  2.0805, -2.9481],\n",
            "        [-6.7150, -6.1133, -0.1521,  ..., -1.2256, -0.4778, -1.7301],\n",
            "        [-5.1076, -4.6527, -1.7909,  ...,  1.5824,  1.1788, -1.3913],\n",
            "        ...,\n",
            "        [-1.7865, -0.9775, -1.7282,  ..., -1.7932,  1.4258, -2.2518],\n",
            "        [-6.0218, -5.4533,  0.0965,  ..., -1.7871,  0.0881, -2.5884],\n",
            "        [-6.6915, -6.0310, -0.0611,  ..., -1.4921, -0.4213, -2.5142]])\n",
            "\n",
            "tgt:\t tensor([171, 342,  45,  11,   2,   0,   0,   0,   0])\n",
            "\n",
            "iter 3120 / 7800\tLoss:\t3.258815\n",
            "pred:\t tensor([[-5.1203e+00, -4.5281e+00,  3.5489e-01,  ..., -1.4273e+00,\n",
            "          1.3236e+00, -1.6709e+00],\n",
            "        [-2.6871e+00, -2.5051e+00, -7.2100e-01,  ...,  5.1958e-01,\n",
            "          3.5483e+00, -2.6305e+00],\n",
            "        [-2.1495e+00, -1.4766e+00, -8.3383e-01,  ..., -1.4630e+00,\n",
            "         -6.1634e-03, -1.2830e+00],\n",
            "        ...,\n",
            "        [-5.1036e+00, -4.4722e+00,  3.6294e-01,  ..., -1.4389e+00,\n",
            "          1.2633e+00, -1.6992e+00],\n",
            "        [-6.6550e+00, -5.9191e+00, -2.8647e-01,  ..., -8.9211e-01,\n",
            "         -5.5373e-01, -1.4143e+00],\n",
            "        [-4.9425e+00, -4.4084e+00, -6.0347e-01,  ..., -1.7452e+00,\n",
            "         -1.1893e-01, -1.7843e+00]])\n",
            "\n",
            "tgt:\t tensor([176, 207, 184,   3,  24,   2,   0,   0,   0])\n",
            "\n",
            "iter 3276 / 7800\tLoss:\tnan\n",
            "pred:\t tensor([[-5.5947, -5.1601, -0.4778,  ..., -0.6928,  0.7642, -2.0388],\n",
            "        [-4.6839, -4.2370,  0.1128,  ..., -2.2599, -0.4323, -1.9662],\n",
            "        [-3.8808, -3.3327, -0.8810,  ..., -1.3823,  1.0636, -2.6082],\n",
            "        ...,\n",
            "        [-2.2871, -2.3824, -1.5124,  ...,  0.1480,  3.0222, -2.5365],\n",
            "        [-3.4550, -3.2062, -1.4164,  ...,  1.5012,  2.8477, -1.6756],\n",
            "        [-2.9028, -2.4854, -2.3242,  ...,  1.8624,  1.9289, -1.1539]])\n",
            "\n",
            "tgt:\t tensor([ 38, 338,   3,  11,   2,   0,   0,   0,   0])\n",
            "\n",
            "iter 3432 / 7800\tLoss:\tnan\n",
            "pred:\t tensor([[-5.9989, -5.4465, -0.7030,  ..., -0.9395, -0.2244, -1.3557],\n",
            "        [-4.9472, -4.2699,  0.3255,  ..., -1.3222,  1.4506, -1.9376],\n",
            "        [-6.3447, -6.0658, -0.1255,  ...,  0.7690,  2.7154, -2.6043],\n",
            "        ...,\n",
            "        [-4.6965, -3.6345, -0.6661,  ..., -0.7240,  1.2977, -0.9110],\n",
            "        [-3.4408, -2.7705, -2.4758,  ..., -0.4084,  1.3085, -1.3524],\n",
            "        [-4.8141, -4.2157, -0.3322,  ..., -1.4174, -0.5951, -1.2049]])\n",
            "\n",
            "tgt:\t tensor([ 14, 246,  74,   3,  11,   2,   0,   0,   0])\n",
            "\n",
            "iter 3588 / 7800\tLoss:\tnan\n",
            "pred:\t tensor([[-6.0159, -5.3869, -1.0254,  ..., -0.6760,  2.4925, -3.6036],\n",
            "        [-4.3585, -4.4135, -0.2571,  ..., -0.2675,  1.4708, -2.8106],\n",
            "        [-4.1756, -4.0098, -1.3951,  ...,  1.5813,  2.5054, -1.7429],\n",
            "        ...,\n",
            "        [-6.6951, -6.0412,  0.0366,  ..., -1.0724, -0.3088, -1.5341],\n",
            "        [-5.7786, -5.2588, -0.6144,  ..., -1.5615,  0.6290, -1.8695],\n",
            "        [-3.8701, -3.6767, -1.6349,  ...,  0.0891,  3.0587, -3.2548]])\n",
            "\n",
            "tgt:\t tensor([36,  3, 11,  2,  0,  0,  0,  0,  0])\n",
            "\n",
            "iter 3744 / 7800\tLoss:\tnan\n",
            "pred:\t tensor([[-5.0999, -4.3971, -1.8069,  ...,  0.5249,  1.4184, -1.2450],\n",
            "        [-5.2326, -4.7684, -0.2630,  ..., -1.5735,  0.4758, -1.9059],\n",
            "        [-5.1837, -5.0354, -0.9022,  ...,  1.7150,  2.5824, -1.9005],\n",
            "        ...,\n",
            "        [-5.7770, -5.4243, -0.5449,  ..., -0.7263,  0.2267, -1.3463],\n",
            "        [-5.4027, -4.8435, -0.5369,  ..., -1.0454,  0.2900, -2.1388],\n",
            "        [-4.9218, -4.6449,  1.3254,  ..., -2.0280,  0.9936, -1.3697]])\n",
            "\n",
            "tgt:\t tensor([135,  72,   3,  11,   2,   0,   0,   0,   0])\n",
            "\n",
            "iter 3900 / 7800\tLoss:\tnan\n",
            "pred:\t tensor([[-5.3952, -4.9962,  0.2715,  ..., -0.4728,  1.5889, -1.9323],\n",
            "        [-4.3363, -3.8700, -1.3682,  ..., -0.3669,  1.6670, -1.8546],\n",
            "        [-6.3711, -6.0495, -1.1250,  ...,  2.0175,  0.7608, -1.0007],\n",
            "        ...,\n",
            "        [-6.7043, -6.2448,  0.0708,  ..., -0.9024, -0.4065, -1.4539],\n",
            "        [-6.7453, -6.5872, -1.5259,  ...,  0.8491,  0.2173, -0.3374],\n",
            "        [-4.8703, -4.5068, -0.6166,  ...,  0.0450,  1.0303, -0.8252]])\n",
            "\n",
            "tgt:\t tensor([14, 17, 18,  5,  2,  0,  0,  0,  0])\n",
            "\n",
            "iter 4056 / 7800\tLoss:\t2.679808\n",
            "pred:\t tensor([[-5.2103, -4.7459,  1.1497,  ..., -2.0099,  1.5484, -1.4153],\n",
            "        [-5.6637, -5.0667, -0.1064,  ..., -0.6479, -0.1924, -0.1257],\n",
            "        [-5.8537, -5.4306, -0.6814,  ..., -1.0370, -0.1360, -0.6890],\n",
            "        ...,\n",
            "        [-3.1406, -2.4826, -0.7716,  ..., -1.6694,  0.1375, -0.6449],\n",
            "        [-2.3507, -1.7532, -1.5545,  ..., -1.1192,  1.5009, -2.2680],\n",
            "        [-2.6171, -2.7656, -1.5909,  ...,  2.8132,  3.7965, -1.8338]])\n",
            "\n",
            "tgt:\t tensor([ 36,   6, 302,  24,   2,   0,   0,   0,   0])\n",
            "\n",
            "iter 4212 / 7800\tLoss:\tnan\n",
            "pred:\t tensor([[-4.2734, -3.6216, -1.2183,  ...,  0.8242,  1.9635, -2.2203],\n",
            "        [-6.1580, -5.6036, -1.9698,  ...,  1.2394,  1.8700, -1.4206],\n",
            "        [-6.6275, -5.9549, -0.8631,  ..., -1.0816, -0.7308, -0.8346],\n",
            "        ...,\n",
            "        [-5.9653, -5.4501, -0.4339,  ..., -1.8716, -0.3638, -0.8821],\n",
            "        [-6.8673, -6.2706,  0.1292,  ..., -1.2586, -0.2008, -1.3260],\n",
            "        [-6.7208, -6.0687, -0.4416,  ..., -0.4221, -0.6480, -1.0804]])\n",
            "\n",
            "tgt:\t tensor([171, 342,   3,  11,   2,   0,   0,   0,   0])\n",
            "\n",
            "iter 4368 / 7800\tLoss:\t2.293785\n",
            "pred:\t tensor([[-5.8963, -5.4612, -0.8202,  ..., -1.0378, -0.5442, -0.6595],\n",
            "        [-7.5390, -7.0864, -0.8568,  ..., -0.1978, -1.1339, -0.7379],\n",
            "        [-1.9441, -1.2839, -0.9821,  ..., -1.6009,  1.2025, -1.7926],\n",
            "        ...,\n",
            "        [-5.2151, -4.6456, -1.6099,  ...,  0.3839,  3.3656, -3.2079],\n",
            "        [-7.3076, -6.7860, -0.9944,  ..., -1.0805,  0.7291, -2.0234],\n",
            "        [-2.6668, -2.3540, -1.0688,  ..., -0.0958,  2.1414, -1.6271]])\n",
            "\n",
            "tgt:\t tensor([ 14,  28, 122,   9, 113, 230,  11,   2,   0])\n",
            "\n",
            "iter 4524 / 7800\tLoss:\tnan\n",
            "pred:\t tensor([[-4.4189, -3.8941, -1.2207,  ..., -1.9816, -0.9231, -0.8475],\n",
            "        [-3.0461, -3.0877,  0.6665,  ...,  1.1121,  2.3171,  0.9455],\n",
            "        [-4.8243, -4.3176, -0.3996,  ..., -1.4636, -0.6612, -0.8160],\n",
            "        ...,\n",
            "        [-4.8290, -4.2645, -1.9277,  ...,  1.7495,  0.2839, -0.3237],\n",
            "        [-4.6641, -3.7955, -2.0144,  ..., -0.7892,  1.3402, -2.2885],\n",
            "        [-5.0918, -4.8712, -1.9318,  ...,  3.4839,  2.2000, -1.4116]])\n",
            "\n",
            "tgt:\t tensor([ 15, 122, 121,  11,   2,   0,   0,   0,   0])\n",
            "\n",
            "iter 4680 / 7800\tLoss:\tnan\n",
            "pred:\t tensor([[-5.5172, -4.9335, -1.2959,  ...,  0.3698,  0.6045, -1.3354],\n",
            "        [-6.0393, -5.3269, -1.1930,  ..., -0.3234,  3.3275, -3.9931],\n",
            "        [-3.3414, -2.8171, -0.4372,  ..., -2.5523, -0.0097, -1.3762],\n",
            "        ...,\n",
            "        [-5.9977, -5.8210,  1.4940,  ..., -1.0250, -0.2683, -0.3430],\n",
            "        [-7.1435, -6.7691,  0.4366,  ..., -1.2575, -0.5331, -1.5295],\n",
            "        [-5.5668, -5.0749,  1.2326,  ..., -2.1141,  1.2852, -1.4035]])\n",
            "\n",
            "tgt:\t tensor([38, 78,  3, 11,  2,  0,  0,  0,  0])\n",
            "\n",
            "iter 4836 / 7800\tLoss:\t2.107672\n",
            "pred:\t tensor([[-4.2379, -4.1948, -1.7191,  ...,  1.6624,  2.8365, -1.9519],\n",
            "        [-5.0264, -4.5592, -1.0175,  ..., -0.3462,  1.6388, -1.8740],\n",
            "        [-6.7589, -6.2462, -1.2118,  ...,  2.1497, -0.0258,  0.4300],\n",
            "        ...,\n",
            "        [-4.6063, -4.6945,  1.6552,  ...,  0.3796,  1.1007,  0.6389],\n",
            "        [-7.4429, -6.8236, -0.1520,  ..., -0.5612, -0.7666, -0.4508],\n",
            "        [-6.2906, -5.7073, -0.9971,  ..., -0.2023,  0.5479, -0.7631]])\n",
            "\n",
            "tgt:\t tensor([ 92, 277, 116,   3,  25,  72,   3,  11,   2])\n",
            "\n",
            "iter 4992 / 7800\tLoss:\t1.759200\n",
            "pred:\t tensor([[-4.8330, -4.7665, -0.5445,  ...,  0.1431,  2.6105, -3.3414],\n",
            "        [-6.7347, -6.1543, -2.2753,  ...,  1.1470,  0.4792,  0.0679],\n",
            "        [-6.3491, -5.8803, -0.5880,  ..., -1.3915, -0.1486, -0.8349],\n",
            "        ...,\n",
            "        [-3.7757, -3.0403, -2.7794,  ..., -0.2554,  1.1701, -1.0168],\n",
            "        [-6.0845, -5.6975, -1.5301,  ..., -0.7174, -0.3895, -0.0328],\n",
            "        [-4.9289, -4.4807, -2.7387,  ...,  3.4540,  2.5942, -1.6947]])\n",
            "\n",
            "tgt:\t tensor([171, 342,   3,  11,   2,   0,   0,   0,   0])\n",
            "\n",
            "iter 5148 / 7800\tLoss:\tnan\n",
            "pred:\t tensor([[-7.0050, -6.4825, -1.1952,  ...,  2.0174,  0.1228, -0.0967],\n",
            "        [-6.4813, -6.0853, -1.0408,  ..., -0.4199, -0.4396, -0.7478],\n",
            "        [-4.1241, -3.4246, -0.6429,  ..., -0.9504, -1.3598,  0.3734],\n",
            "        ...,\n",
            "        [-3.8083, -3.1945, -0.2621,  ..., -2.1305, -0.3126, -0.9332],\n",
            "        [-7.0448, -6.5582,  0.4516,  ..., -1.3531, -0.1152, -1.8475],\n",
            "        [-5.4946, -4.9267,  0.0255,  ..., -1.9927, -0.1833, -1.4178]])\n",
            "\n",
            "tgt:\t tensor([ 3, 11,  2,  0,  0,  0,  0,  0,  0])\n",
            "\n",
            "iter 5304 / 7800\tLoss:\tnan\n",
            "pred:\t tensor([[-5.7909, -5.5093, -0.6143,  ..., -1.6948,  0.0643, -1.3035],\n",
            "        [-6.8655, -6.4021, -0.7260,  ..., -0.7275, -0.3227, -0.7613],\n",
            "        [-4.7941, -4.1973,  1.4057,  ..., -0.5901,  1.6874, -0.4898],\n",
            "        ...,\n",
            "        [-6.7850, -6.2273, -0.5038,  ..., -0.9150, -0.6458, -0.5071],\n",
            "        [-6.4753, -5.9945, -0.4331,  ...,  1.2310,  3.2186, -1.2980],\n",
            "        [-3.8575, -3.3287, -2.6630,  ...,  3.0738,  2.2579, -1.9279]])\n",
            "\n",
            "tgt:\t tensor([15,  3, 75,  3, 11,  2,  0,  0,  0])\n",
            "\n",
            "iter 5460 / 7800\tLoss:\tnan\n",
            "pred:\t tensor([[-7.5131, -6.8966, -1.4703,  ..., -0.9375, -0.0959, -1.1457],\n",
            "        [-6.5629, -6.1024, -1.0307,  ..., -0.8609, -0.3883, -0.5385],\n",
            "        [-6.3107, -5.8813, -1.3889,  ..., -0.9884, -0.5200, -0.0939],\n",
            "        ...,\n",
            "        [-4.6462, -4.2698, -1.2933,  ...,  3.3394,  2.6935, -0.6587],\n",
            "        [-7.3247, -6.6530, -1.7899,  ...,  0.7858, -0.2950,  0.0181],\n",
            "        [-6.2376, -5.7388, -1.3964,  ..., -1.2030, -0.2980, -0.1185]])\n",
            "\n",
            "tgt:\t tensor([ 15, 240,   3,  11,   2,   0,   0,   0,   0])\n",
            "\n",
            "iter 5616 / 7800\tLoss:\t1.890437\n",
            "pred:\t tensor([[-5.8510, -5.1598, -2.2566,  ...,  0.4231,  1.4437, -2.4948],\n",
            "        [-6.7595, -5.8603, -2.6341,  ...,  1.1820,  1.9958, -3.1829],\n",
            "        [-6.1419, -5.6127, -1.6916,  ..., -1.0650,  1.3626, -2.6488],\n",
            "        ...,\n",
            "        [-6.8503, -6.3417, -2.3828,  ...,  1.7068,  0.1708,  0.1898],\n",
            "        [-7.4272, -6.9594, -1.3042,  ..., -0.1215, -0.3412, -0.5575],\n",
            "        [-5.9723, -5.6860, -1.4678,  ...,  2.3115,  0.5183, -1.6322]])\n",
            "\n",
            "tgt:\t tensor([38, 40,  3, 11,  2,  0,  0,  0,  0])\n",
            "\n",
            "iter 5772 / 7800\tLoss:\tnan\n",
            "pred:\t tensor([[-2.5437, -2.7048, -0.8600,  ...,  0.4194,  3.7572, -2.6931],\n",
            "        [-7.2100, -6.6503, -0.7687,  ...,  1.5212, -0.2521, -0.6161],\n",
            "        [-5.8510, -5.4710, -1.4537,  ..., -0.5751,  3.6530, -4.0536],\n",
            "        ...,\n",
            "        [-5.3617, -4.7686, -0.3435,  ..., -1.0485,  0.2287, -1.0771],\n",
            "        [-4.4382, -4.4079, -0.3749,  ...,  0.2901,  2.3540, -3.0164],\n",
            "        [-6.6295, -6.1321, -1.0891,  ..., -1.1897, -0.3941, -0.3314]])\n",
            "\n",
            "tgt:\t tensor([ 92, 341, 221,  11,   2,   0,   0,   0,   0])\n",
            "\n",
            "iter 5928 / 7800\tLoss:\tnan\n",
            "pred:\t tensor([[-6.0772, -5.6258,  0.1768,  ..., -1.3198,  0.5793, -1.5466],\n",
            "        [-3.8639, -3.7084, -0.3916,  ..., -0.2067,  1.7323, -3.5032],\n",
            "        [-8.2508, -7.6391, -0.3953,  ...,  1.6333, -1.0155, -0.7113],\n",
            "        ...,\n",
            "        [-6.4910, -6.0188, -1.1606,  ..., -0.9221,  3.4206, -4.0655],\n",
            "        [-4.7715, -4.6837, -0.1684,  ...,  0.1604,  2.4400, -3.0245],\n",
            "        [-3.8275, -4.1646,  1.1205,  ..., -0.9982, -0.4058,  1.1028]])\n",
            "\n",
            "tgt:\t tensor([ 14,   3, 114,  11,   2,   0,   0,   0,   0])\n",
            "\n",
            "iter 6084 / 7800\tLoss:\t1.891413\n",
            "pred:\t tensor([[-6.9520, -6.3495, -1.0103,  ..., -0.3667, -1.5992,  0.5882],\n",
            "        [-5.4022, -5.1577, -0.8976,  ..., -0.3954, -0.1465,  0.5713],\n",
            "        [-5.5792, -4.9946, -2.4898,  ...,  0.7405,  0.6381, -0.4386],\n",
            "        ...,\n",
            "        [-8.1213, -7.4756,  0.2005,  ..., -1.1483, -1.3614, -1.3417],\n",
            "        [-5.2274, -4.6229, -1.0258,  ..., -0.7900,  0.2548, -1.1071],\n",
            "        [-6.8958, -6.8123, -1.6517,  ...,  3.6813,  0.7711, -0.0209]])\n",
            "\n",
            "tgt:\t tensor([14, 79, 29, 41,  3, 11,  2,  0,  0])\n",
            "\n",
            "iter 6240 / 7800\tLoss:\tnan\n",
            "pred:\t tensor([[-6.0253, -5.2295, -1.6407,  ..., -0.2276,  4.1688, -4.1763],\n",
            "        [-1.8508, -1.4933, -3.0117,  ...,  2.5376,  3.0677, -1.7275],\n",
            "        [-5.2336, -4.6909, -0.7966,  ..., -1.7802,  0.4341, -0.5741],\n",
            "        ...,\n",
            "        [-5.3684, -4.8974, -2.9411,  ...,  3.9108,  2.0818, -1.4585],\n",
            "        [-6.4124, -5.8810, -0.8457,  ..., -0.7574, -0.5876,  0.0389],\n",
            "        [-5.2992, -4.7129, -1.5363,  ..., -0.1258,  0.1097, -0.1597]])\n",
            "\n",
            "tgt:\t tensor([36, 75,  3, 11,  2,  0,  0,  0,  0])\n",
            "\n",
            "iter 6396 / 7800\tLoss:\tnan\n",
            "pred:\t tensor([[-7.1891, -6.6748,  0.1662,  ..., -1.9841, -0.2838, -1.8817],\n",
            "        [-6.3685, -5.8682,  0.9157,  ..., -1.5033, -1.2986, -0.7411],\n",
            "        [-5.3006, -4.8456, -2.1254,  ...,  1.8092,  1.6542, -1.6754],\n",
            "        ...,\n",
            "        [-6.3253, -5.9430, -0.8836,  ..., -0.8060,  1.6285, -1.8250],\n",
            "        [-5.4219, -4.9030, -1.6196,  ...,  2.0574,  0.7694, -1.7124],\n",
            "        [-7.9612, -7.1176, -1.8924,  ..., -1.6909, -0.3732, -2.8704]])\n",
            "\n",
            "tgt:\t tensor([14, 17,  3, 11,  2,  0,  0,  0,  0])\n",
            "\n",
            "iter 6552 / 7800\tLoss:\tnan\n",
            "pred:\t tensor([[-6.8282, -6.1458, -0.4150,  ..., -1.1861, -0.8935,  0.2594],\n",
            "        [-6.2853, -5.9274, -1.6916,  ..., -0.8826, -0.2668,  0.2529],\n",
            "        [-5.4586, -5.2273, -2.5294,  ...,  4.5693,  2.2261, -1.1926],\n",
            "        ...,\n",
            "        [-4.2174, -4.1549, -1.5633,  ..., -0.1133,  2.2781, -2.6248],\n",
            "        [-6.0803, -5.7121, -2.0237,  ...,  4.2057,  1.3477, -0.1642],\n",
            "        [-6.2853, -5.9274, -1.6916,  ..., -0.8826, -0.2668,  0.2529]])\n",
            "\n",
            "tgt:\t tensor([ 14, 171, 120,   3,  11,   2,   0,   0,   0])\n",
            "\n",
            "iter 6708 / 7800\tLoss:\tnan\n",
            "pred:\t tensor([[-1.2428, -0.6230, -1.9894,  ..., -1.5072,  0.4017, -1.2598],\n",
            "        [-5.7600, -5.3896, -0.0730,  ..., -2.6571, -0.4530, -0.8374],\n",
            "        [-5.2782, -4.9841, -2.0989,  ...,  2.3309,  1.0255,  0.1681],\n",
            "        ...,\n",
            "        [-5.5894, -5.2408, -0.0233,  ..., -1.4844, -0.5335,  0.5941],\n",
            "        [-7.3683, -6.5987, -0.3064,  ..., -1.5138, -1.1597, -0.4572],\n",
            "        [-5.9812, -5.0620, -1.5953,  ..., -0.3836,  2.8822, -3.4376]])\n",
            "\n",
            "tgt:\t tensor([156, 254, 335,  11,   2,   0,   0,   0,   0])\n",
            "\n",
            "iter 6864 / 7800\tLoss:\tnan\n",
            "pred:\t tensor([[-6.8876, -6.3097, -1.8521,  ...,  1.8352, -0.4176,  0.2780],\n",
            "        [-5.6360, -4.9509, -1.6726,  ..., -0.0096,  1.3653, -1.7971],\n",
            "        [-6.6340, -6.0592, -1.6179,  ...,  1.8356,  0.3309, -0.3580],\n",
            "        ...,\n",
            "        [-4.8533, -4.3881, -2.8961,  ...,  0.4236,  1.8090, -1.3082],\n",
            "        [-5.8299, -5.5023, -2.0899,  ..., -1.1758,  0.3067,  0.1138],\n",
            "        [-6.6635, -6.1848, -0.8090,  ..., -0.0783, -0.1487,  0.4908]])\n",
            "\n",
            "tgt:\t tensor([48,  3, 37,  3, 11,  2,  0,  0,  0])\n",
            "\n",
            "iter 7020 / 7800\tLoss:\tnan\n",
            "pred:\t tensor([[-4.7736, -4.0953, -0.9612,  ..., -1.6375, -1.1381,  0.2126],\n",
            "        [-7.5448, -6.7371, -1.9234,  ..., -1.7690,  0.4742, -1.4063],\n",
            "        [-6.0528, -5.5159, -0.7156,  ...,  3.5300,  1.8814, -0.9427],\n",
            "        ...,\n",
            "        [-3.9652, -3.3027, -3.0699,  ...,  3.0082,  1.9226, -1.6361],\n",
            "        [-5.6093, -5.0815, -1.0713,  ..., -1.9410,  0.2445, -0.3082],\n",
            "        [-7.2568, -6.8692, -1.5179,  ...,  2.7196,  1.1062, -1.0810]])\n",
            "\n",
            "tgt:\t tensor([ 14, 116, 286,  85,  11,   2,   0,   0,   0])\n",
            "\n",
            "iter 7176 / 7800\tLoss:\t1.793841\n",
            "pred:\t tensor([[-6.6151, -6.0299, -0.5540,  ..., -0.5985, -0.5512,  0.4557],\n",
            "        [-4.5691, -4.0106, -0.3378,  ..., -1.8038, -1.9653,  0.5022],\n",
            "        [-5.3741, -4.8430,  0.7486,  ..., -0.8021,  2.4613, -1.4836],\n",
            "        ...,\n",
            "        [-5.2594, -5.0671, -1.8691,  ...,  2.5134,  4.1853, -3.8710],\n",
            "        [-7.1294, -6.4463,  0.7016,  ..., -2.2017, -0.1783, -1.2429],\n",
            "        [-6.7924, -6.2851,  0.4298,  ..., -2.2575, -0.5667, -1.6829]])\n",
            "\n",
            "tgt:\t tensor([ 14,  33,  56, 147, 148,  11,   2,   0,   0])\n",
            "\n",
            "iter 7332 / 7800\tLoss:\tnan\n",
            "pred:\t tensor([[-3.7955, -3.4426, -1.4687,  ...,  3.7700,  2.3180, -1.8966],\n",
            "        [-4.3522, -4.1987,  1.3863,  ..., -0.2157,  2.1828, -1.1567],\n",
            "        [-6.8522, -6.8235, -1.6877,  ...,  2.4324,  2.7842, -1.6640],\n",
            "        ...,\n",
            "        [-3.6922, -3.7364, -0.5655,  ...,  0.6151,  2.1019, -2.0560],\n",
            "        [-5.8665, -5.5865, -1.2345,  ..., -1.7300, -0.6304,  0.1774],\n",
            "        [-5.0428, -4.7709, -1.1977,  ..., -1.7813,  2.4104, -1.4584]])\n",
            "\n",
            "tgt:\t tensor([53, 75,  3,  3,  5,  2,  0,  0,  0])\n",
            "\n",
            "iter 7488 / 7800\tLoss:\t1.071651\n",
            "pred:\t tensor([[-7.0555, -6.5344, -0.9233,  ..., -1.8497, -1.1970, -0.1182],\n",
            "        [-6.7990, -6.2003, -0.6719,  ..., -0.8465, -1.7142,  0.0405],\n",
            "        [-6.4369, -6.0480, -1.2124,  ..., -0.8144, -0.0731, -0.3687],\n",
            "        ...,\n",
            "        [-5.5469, -4.8004,  0.6039,  ..., -1.0305, -0.3181, -0.7265],\n",
            "        [-5.4431, -5.0287, -1.2668,  ...,  3.4839,  2.3415, -0.5801],\n",
            "        [-6.9700, -6.5385, -1.0489,  ..., -1.5448, -0.0770, -0.2658]])\n",
            "\n",
            "tgt:\t tensor([ 14, 208, 377,  11,   2,   0,   0,   0,   0])\n",
            "\n",
            "iter 7644 / 7800\tLoss:\tnan\n",
            "pred:\t tensor([[-4.9552, -4.5394, -0.1839,  ..., -2.2876,  0.5095, -2.2157],\n",
            "        [-5.8235, -5.1813, -2.2580,  ...,  3.5487,  0.3604,  0.1684],\n",
            "        [-5.7890, -5.4843,  1.1478,  ...,  1.5233,  1.5349,  0.0482],\n",
            "        ...,\n",
            "        [-7.3690, -6.8692, -2.0128,  ...,  2.3299, -0.7046,  0.1686],\n",
            "        [-4.2619, -4.1638, -0.9610,  ...,  0.6836,  2.0209, -2.8178],\n",
            "        [-6.1045, -6.2080, -1.6860,  ...,  1.1177,  4.9137, -3.3326]])\n",
            "\n",
            "tgt:\t tensor([ 52,  40, 123,  11,   2,   0,   0,   0,   0])\n",
            "\n"
          ]
        }
      ],
      "source": [
        "def train_lstm(net, train_iter, lr, epochs, device):\n",
        "  # training\n",
        "  if lr is None:\n",
        "    lr = 0.001\n",
        "  net = net.to(device)\n",
        "\n",
        "  optimizer = torch.optim.Adam(net.parameters(), lr=lr)\n",
        "  loss_list = []\n",
        "  print_interval = len(train_iter)\n",
        "  total_iter = epochs * len(train_iter)\n",
        "  for e in range(epochs):\n",
        "    net.train()\n",
        "    for i, train_data in enumerate(train_iter):\n",
        "      train_data = [ds.to(device) for ds in train_data]\n",
        "\n",
        "      batch_size = train_data[0].shape[0]\n",
        "\n",
        "      loss, pred = net(*train_data)\n",
        "\n",
        "      loss_list.append(loss.mean().detach().cpu())\n",
        "      optimizer.zero_grad()\n",
        "      loss.mean().backward()\n",
        "      optimizer.step()\n",
        "\n",
        "      step = i + e * len(train_iter)\n",
        "      if step % print_interval == 0:\n",
        "        print('iter {} / {}\\tLoss:\\t{:.6f}'.format(step, total_iter, loss.mean().detach()))\n",
        "        print('pred:\\t {}\\n'.format(pred[0].detach().cpu()))\n",
        "        print('tgt:\\t {}\\n'.format(train_data[2][0][1:].cpu()))\n",
        "  return loss_list\n",
        "\n",
        "seed(1)\n",
        "batch_size = 32\n",
        "lr = None\n",
        "##############################################################################\n",
        "# TODO: Find a good learning rate to train this model. Make sure your best\n",
        "# model is saved to the `lstm_net` variable.\n",
        "##############################################################################\n",
        "# Replace \"pass\" statement with your code (1 pts)\n",
        "lr = 1e-3\n",
        "# END OF YOUR CODE\n",
        "epochs = 50\n",
        "\n",
        "embedding_dim = 250\n",
        "hidden_size = 128\n",
        "\n",
        "vocab_eng, vocab_fra, train_iter = load_data_nmt(batch_size)\n",
        "lstm_net = NMTLSTM(vocab_eng.num_word, vocab_fra.num_word, embedding_dim, hidden_size, device)\n",
        "\n",
        "lstm_loss_list = train_lstm(lstm_net, train_iter, lr, epochs, device)"
      ]
    },
    {
      "cell_type": "markdown",
      "metadata": {
        "id": "jxuOta5JjFeu"
      },
      "source": [
        "### LSTM Loss Curve\n",
        "\n",
        "Plot the loss curve over time."
      ]
    },
    {
      "cell_type": "code",
      "execution_count": 34,
      "metadata": {
        "id": "Juch6FWtjFeu",
        "colab": {
          "base_uri": "https://localhost:8080/",
          "height": 470
        },
        "outputId": "f0022cf2-7c77-4d19-b80b-dc761dc030e0"
      },
      "outputs": [
        {
          "output_type": "execute_result",
          "data": {
            "text/plain": [
              "Text(0.5, 1.0, 'Loss Curve of LSTM Attention')"
            ]
          },
          "metadata": {},
          "execution_count": 34
        },
        {
          "output_type": "display_data",
          "data": {
            "text/plain": [
              "<Figure size 640x480 with 1 Axes>"
            ],
            "image/png": "[encoded data removed]"
          },
          "metadata": {}
        }
      ],
      "source": [
        "plt.plot(np.arange(len(lstm_loss_list)), lstm_loss_list)\n",
        "plt.title('Loss Curve of LSTM Attention')"
      ]
    },
    {
      "cell_type": "markdown",
      "metadata": {
        "id": "OMn0v69mjFeu"
      },
      "source": [
        "Test the accuracy of your model. You should be able to get at least 68% accuracy."
      ]
    },
    {
      "cell_type": "code",
      "execution_count": 35,
      "metadata": {
        "id": "I4-zQfjAjFeu",
        "colab": {
          "base_uri": "https://localhost:8080/"
        },
        "outputId": "23e4975e-05c9-4cb8-a470-c4908ca03e13"
      },
      "outputs": [
        {
          "output_type": "stream",
          "name": "stdout",
          "text": [
            "(tensor([4, 5, 0, 0, 0, 0, 0, 0, 0, 0]), tensor(2), tensor([1, 4, 5, 2, 0, 0, 0, 0, 0, 0]), tensor(4))\n",
            "pred:\t ['entrez', '!', '.', '.', '.']\n",
            "\n",
            "tgt:\t ['unk', '!', 'eos', 'pad', 'pad', 'pad', 'pad', 'pad', 'pad']\n",
            "\n",
            "pred:\t ['je', 'te', 'ferai', 'un', 'unk', '.', '.']\n",
            "\n",
            "tgt:\t ['je', \"t'en\", 'dois', 'une', '.', 'eos', 'pad', 'pad', 'pad']\n",
            "\n",
            "pred:\t ['est-il', 'mort', '?', '?', '?', '?']\n",
            "\n",
            "tgt:\t ['est-il', 'unk', '?', 'eos', 'pad', 'pad', 'pad', 'pad', 'pad']\n",
            "\n",
            "pred:\t ['je', 'suis', 'unk', '.', '.', '.']\n",
            "\n",
            "tgt:\t ['je', 'suis', 'unk', '.', 'eos', 'pad', 'pad', 'pad', 'pad']\n",
            "\n",
            "pred:\t ['unk', 'à', 'qui', 'que', 'ce', 'soit', '!', '!']\n",
            "\n",
            "tgt:\t ['demande', 'à', 'unk', 'qui', '!', 'eos', 'pad', 'pad', 'pad']\n",
            "\n",
            "Prediction Acc.: 0.7619\n"
          ]
        }
      ],
      "source": [
        "def comp_acc(pred, gt, valid_len):\n",
        "  N, T_gt = gt.shape[:2]\n",
        "  _, T_pr = pred.shape[:2]\n",
        "  assert T_gt == T_pr, 'Prediction and target should have the same length.'\n",
        "  len_mask = torch.arange(T_gt).expand(N, T_gt)\n",
        "  len_mask = len_mask < valid_len[:, None]\n",
        "\n",
        "  pred_crr = (pred == gt).float() * len_mask.float() # filter out the 'bos' token\n",
        "  pred_acc = pred_crr.sum(dim=-1) / (valid_len - 1).float() # minus the 'bos' token\n",
        "  return pred_acc\n",
        "\n",
        "def evaluate_lstm(net, train_iter, device):\n",
        "  acc_list = []\n",
        "  for i, train_data in enumerate(train_iter):\n",
        "    train_data = [ds.to(device) for ds in train_data]\n",
        "\n",
        "    pred = net.predict(*train_data)\n",
        "\n",
        "    pred_acc = comp_acc(pred.detach().cpu(), train_data[2].detach().cpu()[:, 1:], train_data[3].cpu())\n",
        "    acc_list.append(pred_acc)\n",
        "    if i < 5:# print 5 samples from 5 batches\n",
        "      pred = pred[0].detach().cpu()\n",
        "      pred_seq = []\n",
        "      for t in range(MAX_LEN+1):\n",
        "        pred_wd = vocab_fra.index2word[pred[t].item()]\n",
        "        if pred_wd != 'eos':\n",
        "          pred_seq.append(pred_wd)\n",
        "\n",
        "      print('pred:\\t {}\\n'.format(pred_seq))\n",
        "      print('tgt:\\t {}\\n'.format([vocab_fra.index2word[t.item()] for t in train_data[2][0][1:].cpu()]))\n",
        "\n",
        "  print('Prediction Acc.: {:.4f}'.format(torch.cat(acc_list).mean()))\n",
        "\n",
        "seed(1)\n",
        "batch_size = 32\n",
        "\n",
        "vocab_eng, vocab_fra, train_iter = load_data_nmt(batch_size)\n",
        "evaluate_lstm(lstm_net, train_iter, device)"
      ]
    }
  ],
  "metadata": {
    "accelerator": "GPU",
    "colab": {
      "gpuType": "T4",
      "provenance": [],
      "collapsed_sections": [
        "LOnx64VPjFeu"
      ]
    },
    "kernelspec": {
      "display_name": "Python 3",
      "name": "python3"
    },
    "language_info": {
      "codemirror_mode": {
        "name": "ipython",
        "version": 3
      },
      "file_extension": ".py",
      "mimetype": "text/x-python",
      "name": "python",
      "nbconvert_exporter": "python",
      "pygments_lexer": "ipython3",
      "version": "3.7.9"
    }
  },
  "nbformat": 4,
  "nbformat_minor": 0
}